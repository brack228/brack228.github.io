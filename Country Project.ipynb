{
 "cells": [
  {
   "cell_type": "markdown",
   "metadata": {},
   "source": [
    "# Income inequality as a function of tax revenue"
   ]
  },
  {
   "cell_type": "markdown",
   "metadata": {},
   "source": [
    "This notebook aims to find the effect that total tax revenue has on the level of income inequality in countries with high quality of life."
   ]
  },
  {
   "cell_type": "code",
   "execution_count": 1,
   "metadata": {},
   "outputs": [],
   "source": [
    "import pandas as pd\n",
    "import numpy as np\n",
    "import random\n",
    "import matplotlib.pyplot as plt"
   ]
  },
  {
   "cell_type": "markdown",
   "metadata": {},
   "source": [
    "We read in world development indicators from the world bank. This data set can be found at https://www.kaggle.com/worldbank/world-development-indicators"
   ]
  },
  {
   "cell_type": "code",
   "execution_count": 2,
   "metadata": {},
   "outputs": [],
   "source": [
    "data=pd.read_csv('./world-development-indicators/Indicators.csv')"
   ]
  },
  {
   "cell_type": "markdown",
   "metadata": {},
   "source": [
    "We then narrow our table down to include only the top 20 countries by social progress index, a measure of quality of life, (see http://www.socialprogressindex.com/assets/downloads/resources/en/English-2017-Social-Progress-Index-Findings-Report_embargo-d-until-June-21-2017.pdf) "
   ]
  },
  {
   "cell_type": "code",
   "execution_count": 3,
   "metadata": {},
   "outputs": [],
   "source": [
    "qol_list=['Australia','Austria','Belgium','Canada','Denmark','Finland','France','Germany','Iceland','Ireland','Netherlands','Norway','Portugal','Slovenia','Spain','Sweden','Switzerland','United Kingdom','United States']"
   ]
  },
  {
   "cell_type": "code",
   "execution_count": 91,
   "metadata": {},
   "outputs": [],
   "source": [
    "missing=['New Zealand','Japan']"
   ]
  },
  {
   "cell_type": "markdown",
   "metadata": {},
   "source": [
    "note: we did not have complete data for New Zealand and Japan, so these countries have been omitted"
   ]
  },
  {
   "cell_type": "code",
   "execution_count": 4,
   "metadata": {},
   "outputs": [],
   "source": [
    "QOL=data[data['CountryName'].isin(qol_list)]"
   ]
  },
  {
   "cell_type": "markdown",
   "metadata": {},
   "source": [
    "2010 is the most recent year for which we have all the relevant data, so we will restrict our analysis to that year and compare indicators across countries"
   ]
  },
  {
   "cell_type": "code",
   "execution_count": 5,
   "metadata": {
    "scrolled": true
   },
   "outputs": [],
   "source": [
    "Ind_by_country2010=QOL[QOL['Year']==2010].pivot_table(index='CountryName',columns='IndicatorName',values=\"Value\")\n"
   ]
  },
  {
   "cell_type": "markdown",
   "metadata": {},
   "source": [
    "We are curious to see the relation between a countries total tax revenue as a percent of GDP and income inequality. As a measure of income inequality we calculate the income share held by the bottom 60% of earners in that country."
   ]
  },
  {
   "cell_type": "code",
   "execution_count": 6,
   "metadata": {},
   "outputs": [],
   "source": [
    "Ind_by_country2010['Income share held by lowest 60%']=Ind_by_country2010['Income share held by lowest 20%']+Ind_by_country2010['Income share held by fourth 20%']+Ind_by_country2010['Income share held by third 20%']"
   ]
  },
  {
   "cell_type": "code",
   "execution_count": 8,
   "metadata": {
    "scrolled": true
   },
   "outputs": [
    {
     "data": {
      "text/plain": [
       "[<matplotlib.lines.Line2D at 0x7f1d7d3a5c50>]"
      ]
     },
     "execution_count": 8,
     "metadata": {},
     "output_type": "execute_result"
    },
    {
     "data": {
      "image/png": "[encoded data removed]",
      "text/plain": [
       "<Figure size 432x288 with 1 Axes>"
      ]
     },
     "metadata": {},
     "output_type": "display_data"
    }
   ],
   "source": [
    "plt.scatter(Ind_by_country2010['Tax revenue (% of GDP)'],Ind_by_country2010['Income share held by lowest 60%'])\n",
    "plt.xlabel('Tax Revenue (% of GDP)')\n",
    "plt.ylabel('Income share of bottom 60% of earners')\n",
    "z = np.polyfit(Ind_by_country2010['Tax revenue (% of GDP)'], Ind_by_country2010['Income share held by lowest 60%'], 1)\n",
    "p = np.poly1d(z)\n",
    "plt.plot(Ind_by_country2010['Tax revenue (% of GDP)'],p(Ind_by_country2010['Tax revenue (% of GDP)']),\"r--\")\n"
   ]
  },
  {
   "cell_type": "markdown",
   "metadata": {},
   "source": [
    "After plotting these two quantities, we notice a slight postitive correlation. We quanitfy the correlation using the pearson coefficient"
   ]
  },
  {
   "cell_type": "code",
   "execution_count": 122,
   "metadata": {},
   "outputs": [
    {
     "data": {
      "text/plain": [
       "0.3950679787806027"
      ]
     },
     "execution_count": 122,
     "metadata": {},
     "output_type": "execute_result"
    }
   ],
   "source": [
    "Ind_by_country2010['Tax revenue (% of GDP)'].corr(Ind_by_country2010['Income share held by lowest 60%'])"
   ]
  },
  {
   "cell_type": "markdown",
   "metadata": {},
   "source": [
    "Additionally, we can us the share of income held by the top 10% as our measure of inequality, plotting:"
   ]
  },
  {
   "cell_type": "code",
   "execution_count": 10,
   "metadata": {},
   "outputs": [
    {
     "data": {
      "text/plain": [
       "[<matplotlib.lines.Line2D at 0x7f1d7d2d7080>]"
      ]
     },
     "execution_count": 10,
     "metadata": {},
     "output_type": "execute_result"
    },
    {
     "data": {
      "image/png": "[encoded data removed]",
      "text/plain": [
       "<Figure size 432x288 with 1 Axes>"
      ]
     },
     "metadata": {},
     "output_type": "display_data"
    }
   ],
   "source": [
    "plt.scatter(Ind_by_country2010['Tax revenue (% of GDP)'],Ind_by_country2010['Income share held by highest 10%'])\n",
    "plt.xlabel('Tax Revenue (% of GDP)')\n",
    "plt.ylabel('Income share of top 10% of earners')\n",
    "z = np.polyfit(Ind_by_country2010['Tax revenue (% of GDP)'], Ind_by_country2010['Income share held by highest 10%'], 1)\n",
    "p = np.poly1d(z)\n",
    "plt.plot(Ind_by_country2010['Tax revenue (% of GDP)'],p(Ind_by_country2010['Tax revenue (% of GDP)']),\"r--\")\n",
    "\n"
   ]
  },
  {
   "cell_type": "code",
   "execution_count": 125,
   "metadata": {},
   "outputs": [
    {
     "data": {
      "text/plain": [
       "-0.4081408846825898"
      ]
     },
     "execution_count": 125,
     "metadata": {},
     "output_type": "execute_result"
    }
   ],
   "source": [
    "Ind_by_country2010['Tax revenue (% of GDP)'].corr(Ind_by_country2010['Income share held by highest 10%'])"
   ]
  },
  {
   "cell_type": "markdown",
   "metadata": {},
   "source": [
    "We notice a similar correlation between these two quantities in the negative direction."
   ]
  },
  {
   "cell_type": "code",
   "execution_count": null,
   "metadata": {},
   "outputs": [],
   "source": []
  }
 ],
 "metadata": {
  "kernelspec": {
   "display_name": "Python 3",
   "language": "python",
   "name": "python3"
  },
  "language_info": {
   "codemirror_mode": {
    "name": "ipython",
    "version": 3
   },
   "file_extension": ".py",
   "mimetype": "text/x-python",
   "name": "python",
   "nbconvert_exporter": "python",
   "pygments_lexer": "ipython3",
   "version": "3.6.5"
  }
 },
 "nbformat": 4,
 "nbformat_minor": 2
}
