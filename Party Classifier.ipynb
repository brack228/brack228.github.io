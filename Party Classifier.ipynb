{
 "cells": [
  {
   "cell_type": "markdown",
   "metadata": {},
   "source": [
    "# Party Classification by Tweet"
   ]
  },
  {
   "cell_type": "markdown",
   "metadata": {},
   "source": [
    "In this notebook I will build a model that classifies tweets as either coming from a Democrat or a Republican politcian. To train my model I will use a collection of the latest 200 tweets (as of May 17th, 2018) from every member of the House of Representatives. This data set can be found at https://www.kaggle.com/kapastor/democratvsrepublicantweets#ExtractedTweets.csv"
   ]
  },
  {
   "cell_type": "code",
   "execution_count": 79,
   "metadata": {},
   "outputs": [],
   "source": [
    "%matplotlib inline\n",
    "import string\n",
    "import numpy as np\n",
    "import matplotlib\n",
    "import matplotlib.pyplot as plt\n",
    "matplotlib.rc('xtick', labelsize=14) \n",
    "matplotlib.rc('ytick', labelsize=14)\n",
    "from sklearn.model_selection import train_test_split\n",
    "from sklearn.feature_extraction.text import CountVectorizer, TfidfVectorizer\n",
    "from sklearn.feature_extraction.text import TfidfTransformer\n",
    "\n",
    "from sklearn import svm\n",
    "from sklearn.svm import SVC\n",
    "import pandas as pd\n",
    "from sklearn.model_selection import cross_val_score\n",
    "from sklearn.utils import shuffle\n",
    "from sklearn.metrics import accuracy_score\n",
    "import re\n",
    "from sklearn.pipeline import Pipeline\n",
    "from sklearn.feature_selection import chi2, SelectKBest\n",
    "from sklearn.model_selection import GridSearchCV\n"
   ]
  },
  {
   "cell_type": "markdown",
   "metadata": {},
   "source": [
    "The collection of tweets is stored under the variable 'data', the corresponding party label will stored stored under 'targets', we see that the data set has 86,460 samples"
   ]
  },
  {
   "cell_type": "code",
   "execution_count": 3,
   "metadata": {},
   "outputs": [
    {
     "data": {
      "text/plain": [
       "(86460,)"
      ]
     },
     "execution_count": 3,
     "metadata": {},
     "output_type": "execute_result"
    }
   ],
   "source": [
    "data=pd.read_csv('ExtractedTweets.csv')['Tweet']\n",
    "targets=pd.read_csv('ExtractedTweets.csv')[['Party']]\n",
    "data.shape"
   ]
  },
  {
   "cell_type": "markdown",
   "metadata": {},
   "source": [
    "First, I do some preprocessing, the following for loop removes all punctuation, digits, and URLs from the tweet data set"
   ]
  },
  {
   "cell_type": "code",
   "execution_count": 128,
   "metadata": {},
   "outputs": [],
   "source": [
    "for i in range(len(data)):\n",
    "    data[i]=data[i].replace(\"’\",\"\")\n",
    "    data[i]=data[i].replace(\"'\",\"\")\n",
    "    data[i]=re.sub(r\"http\\S+\", \"\", data[i])\n",
    "    data[i]=' '.join(s for s in data[i].split() if not any(c.isdigit() for c in s))\n",
    "    data[i]=data[i].translate(str.maketrans('', '', string.punctuation))\n",
    "    \n"
   ]
  },
  {
   "cell_type": "markdown",
   "metadata": {},
   "source": [
    "Next, I use the CountVectorizer utility to turn the tweets into a bag of words model, this will convert each tweet into a vector over the space of possible words. The value of a given dimension of the vector corresponds to the number of times that word appears in the tweet. "
   ]
  },
  {
   "cell_type": "code",
   "execution_count": 130,
   "metadata": {},
   "outputs": [
    {
     "data": {
      "text/plain": [
       "(86460, 523474)"
      ]
     },
     "execution_count": 130,
     "metadata": {},
     "output_type": "execute_result"
    }
   ],
   "source": [
    "\n",
    "count_vect = CountVectorizer(ngram_range=(1,2))\n",
    "X_train_counts = count_vect.fit_transform(data)\n",
    "X_train_counts.shape\n"
   ]
  },
  {
   "cell_type": "markdown",
   "metadata": {},
   "source": [
    "We can see from the output of X_train_counts.shape that there are a total of 523,474 different unigrams and bigrams (groups of one or two words) in the corpus "
   ]
  },
  {
   "cell_type": "markdown",
   "metadata": {},
   "source": [
    "Next I use the utility TfidfTransformer, this will scale the count vectors to give more weight to unique words in the data set and give less weight to very common words e.g.(the, as, we etc.)"
   ]
  },
  {
   "cell_type": "code",
   "execution_count": 131,
   "metadata": {},
   "outputs": [],
   "source": [
    "\n",
    "tfidf = TfidfVectorizer(ngram_range=(1,2))\n",
    "X_train_tfidf = tfidf.fit_transform(data)\n",
    "\n",
    "\n"
   ]
  },
  {
   "cell_type": "markdown",
   "metadata": {},
   "source": [
    "Next, I shuffle the order of the data so that the initial ordering does not bias the classifier."
   ]
  },
  {
   "cell_type": "code",
   "execution_count": 132,
   "metadata": {},
   "outputs": [],
   "source": [
    "X,y=shuffle(X_train_tfidf,np.ravel(targets.values))\n"
   ]
  },
  {
   "cell_type": "markdown",
   "metadata": {},
   "source": [
    "Finally I define a feature selector, SelectKBest this will only select the top k features to use in the classifier. Where the top features are measured by the chi2 statistic"
   ]
  },
  {
   "cell_type": "code",
   "execution_count": 133,
   "metadata": {},
   "outputs": [],
   "source": [
    "sel=SelectKBest(score_func=chi2)"
   ]
  },
  {
   "cell_type": "markdown",
   "metadata": {},
   "source": [
    "Now the data is ready to be fed into a classification model, I will try out several different types of classifiers. \n",
    "\n",
    "In the following cell I fit the data to a multinomial Naive Bayes model and estimate the accuracy using 5-fold cross validation. The optimal value of alpha is found using grid search "
   ]
  },
  {
   "cell_type": "code",
   "execution_count": 146,
   "metadata": {
    "scrolled": true
   },
   "outputs": [
    {
     "name": "stdout",
     "output_type": "stream",
     "text": [
      "Fitting 5 folds for each of 9 candidates, totalling 45 fits\n"
     ]
    },
    {
     "name": "stderr",
     "output_type": "stream",
     "text": [
      "[Parallel(n_jobs=-1)]: Using backend LokyBackend with 8 concurrent workers.\n",
      "[Parallel(n_jobs=-1)]: Done   2 tasks      | elapsed:    4.8s\n",
      "[Parallel(n_jobs=-1)]: Done  40 out of  45 | elapsed:   24.5s remaining:    3.1s\n",
      "[Parallel(n_jobs=-1)]: Done  45 out of  45 | elapsed:   27.9s finished\n"
     ]
    },
    {
     "data": {
      "text/plain": [
       "GridSearchCV(cv=5, error_score='raise-deprecating',\n",
       "       estimator=Pipeline(memory=None,\n",
       "     steps=[('sel', SelectKBest(k=10, score_func=<function chi2 at 0x124709c80>)), ('clf', MultinomialNB(alpha=1.0, class_prior=None, fit_prior=True))]),\n",
       "       fit_params=None, iid=False, n_jobs=-1,\n",
       "       param_grid={'sel__k': [1000, 10000, 100000], 'clf__alpha': [0.01, 0.1, 1]},\n",
       "       pre_dispatch='2*n_jobs', refit=True, return_train_score='warn',\n",
       "       scoring='accuracy', verbose=5)"
      ]
     },
     "execution_count": 146,
     "metadata": {},
     "output_type": "execute_result"
    }
   ],
   "source": [
    "\n",
    "\n",
    "clf = MultinomialNB()\n",
    "\n",
    "pipeline=Pipeline([('sel',sel),('clf',clf)])\n",
    "parameters = {'sel__k': [1000,10000,100000],\n",
    "             'clf__alpha':[.01,.1,1]}\n",
    "model = GridSearchCV(pipeline,parameters, cv=5, iid=False, n_jobs=-1,refit=True,verbose=5,scoring='accuracy') \n",
    "model.fit(X,y)\n",
    "\n"
   ]
  },
  {
   "cell_type": "code",
   "execution_count": 147,
   "metadata": {},
   "outputs": [
    {
     "data": {
      "text/plain": [
       "{'clf__alpha': 0.1, 'sel__k': 100000}"
      ]
     },
     "execution_count": 147,
     "metadata": {},
     "output_type": "execute_result"
    }
   ],
   "source": [
    "model.best_params_"
   ]
  },
  {
   "cell_type": "code",
   "execution_count": 148,
   "metadata": {},
   "outputs": [
    {
     "data": {
      "text/plain": [
       "0.8022206220333707"
      ]
     },
     "execution_count": 148,
     "metadata": {},
     "output_type": "execute_result"
    }
   ],
   "source": [
    "model.best_score_"
   ]
  },
  {
   "cell_type": "markdown",
   "metadata": {},
   "source": [
    "We see that with the optimal parameters of alpha= 0.1 and k= 100,000 , the NB algorithm has about an 80% success rate. Next I try a Logistic Regression model:"
   ]
  },
  {
   "cell_type": "code",
   "execution_count": 143,
   "metadata": {},
   "outputs": [
    {
     "name": "stdout",
     "output_type": "stream",
     "text": [
      "Fitting 5 folds for each of 16 candidates, totalling 80 fits\n"
     ]
    },
    {
     "name": "stderr",
     "output_type": "stream",
     "text": [
      "[Parallel(n_jobs=-1)]: Using backend LokyBackend with 8 concurrent workers.\n",
      "[Parallel(n_jobs=-1)]: Done   2 tasks      | elapsed:    4.6s\n",
      "[Parallel(n_jobs=-1)]: Done  56 tasks      | elapsed:   42.1s\n",
      "[Parallel(n_jobs=-1)]: Done  80 out of  80 | elapsed:  1.1min finished\n"
     ]
    },
    {
     "data": {
      "text/plain": [
       "GridSearchCV(cv=5, error_score='raise-deprecating',\n",
       "       estimator=Pipeline(memory=None,\n",
       "     steps=[('sel', SelectKBest(k=10, score_func=<function chi2 at 0x124709c80>)), ('clf', LogisticRegression(C=1.0, class_weight=None, dual=False, fit_intercept=True,\n",
       "          intercept_scaling=1, max_iter=100, multi_class='warn',\n",
       "          n_jobs=None, penalty='l2', random_state=None, solver='liblinear',\n",
       "          tol=0.0001, verbose=0, warm_start=False))]),\n",
       "       fit_params=None, iid=False, n_jobs=-1,\n",
       "       param_grid={'sel__k': [1000, 10000, 100000, 500000], 'clf__C': [0.1, 1, 10, 100]},\n",
       "       pre_dispatch='2*n_jobs', refit=True, return_train_score='warn',\n",
       "       scoring='accuracy', verbose=5)"
      ]
     },
     "execution_count": 143,
     "metadata": {},
     "output_type": "execute_result"
    }
   ],
   "source": [
    "from sklearn.linear_model import LogisticRegression\n",
    "clf=LogisticRegression(solver='liblinear')\n",
    "pipeline=Pipeline([('sel',sel),('clf',clf)])\n",
    "parameters = {'sel__k': [1000,10000,100000,500000],\n",
    "             'clf__C':[.1,1,10,100]}\n",
    "model = GridSearchCV(pipeline,parameters, cv=5, iid=False, n_jobs=-1,refit=True,verbose=5,scoring='accuracy') \n",
    "model.fit(X,y)\n",
    "\n"
   ]
  },
  {
   "cell_type": "code",
   "execution_count": 144,
   "metadata": {},
   "outputs": [
    {
     "data": {
      "text/plain": [
       "{'clf__C': 10, 'sel__k': 100000}"
      ]
     },
     "execution_count": 144,
     "metadata": {},
     "output_type": "execute_result"
    }
   ],
   "source": [
    "model.best_params_"
   ]
  },
  {
   "cell_type": "code",
   "execution_count": 145,
   "metadata": {},
   "outputs": [
    {
     "data": {
      "text/plain": [
       "0.8033309406727456"
      ]
     },
     "execution_count": 145,
     "metadata": {},
     "output_type": "execute_result"
    }
   ],
   "source": [
    "model.best_score_"
   ]
  },
  {
   "cell_type": "markdown",
   "metadata": {},
   "source": [
    "Again, we see about an 80% classification accuracy. Next I try a Support Vector Machine with a linear decision boundary. (Full grid search code omitted)"
   ]
  },
  {
   "cell_type": "code",
   "execution_count": null,
   "metadata": {},
   "outputs": [],
   "source": [
    "from sklearn.svm import LinearSVC\n",
    "clf = svm.LinearSVC(C=.8, loss='squared_hinge',max_iter=5000)\n",
    "cross_val_score(clf, X, y, cv=5).mean()"
   ]
  },
  {
   "cell_type": "markdown",
   "metadata": {},
   "source": [
    "Finally, I try a Decision Tree and a Random Forest Classifier (Full grid search code omitted):"
   ]
  },
  {
   "cell_type": "code",
   "execution_count": 11,
   "metadata": {},
   "outputs": [
    {
     "data": {
      "text/plain": [
       "0.6313788197214114"
      ]
     },
     "execution_count": 11,
     "metadata": {},
     "output_type": "execute_result"
    }
   ],
   "source": [
    "from sklearn.tree import DecisionTreeClassifier\n",
    "clf = DecisionTreeClassifier(max_depth=100)\n",
    "cross_val_score(clf, X,y, cv=5).mean()\n"
   ]
  },
  {
   "cell_type": "code",
   "execution_count": 12,
   "metadata": {},
   "outputs": [
    {
     "data": {
      "text/plain": [
       "0.6195581801878173"
      ]
     },
     "execution_count": 12,
     "metadata": {},
     "output_type": "execute_result"
    }
   ],
   "source": [
    "from sklearn.ensemble import RandomForestClassifier\n",
    "clf = RandomForestClassifier(n_estimators=100,max_depth=10)\n",
    "cross_val_score(clf, X,y, cv=5).mean()\n",
    "\n"
   ]
  },
  {
   "cell_type": "markdown",
   "metadata": {},
   "source": [
    "We see that the Naive Bayes, Logistic Regression, and Support Vector Machine algorithms all have an accuracy around 80%, while the Decision Tree and Random Forest classifiers are only 62-63% accurate"
   ]
  },
  {
   "cell_type": "markdown",
   "metadata": {},
   "source": [
    "As of now, my model seems to maxing out at 80% accuracy, how can this be improved upon? What might be causing our 20% error rate?\n",
    "One reason may be the quality of our data, one can see by examining this data set that many tweets are cut off significantly, for example let's look at the first tweet:\n"
   ]
  },
  {
   "cell_type": "code",
   "execution_count": 58,
   "metadata": {},
   "outputs": [
    {
     "data": {
      "text/plain": [
       "'Today, Senate Dems vote to #SaveTheInternet. Proud to support similar #NetNeutrality legislation here in the House…'"
      ]
     },
     "execution_count": 58,
     "metadata": {},
     "output_type": "execute_result"
    }
   ],
   "source": [
    "data[0]"
   ]
  },
  {
   "cell_type": "markdown",
   "metadata": {},
   "source": [
    "A Google search lead me to the full tweet:\n",
    "\n",
    "\"Today, Senate Dems vote to #SaveTheInternet. Proud to support similar #NetNeutrality legislation here in the House to protect small businesses & innovators in our district. The fight for a free and open internet continues! #Sayfie\"\n",
    "\n",
    "One can see we are missing lots of valuable information by cutting off the tweets like this, especially from the hashtags that are often at the end of the tweet."
   ]
  },
  {
   "cell_type": "markdown",
   "metadata": {},
   "source": [
    "Another cause of error may be an insufficient quanitity of data. Would one expect the model to perform better if fed a larger data set? Below I plot the training and test error for the Naive Bayes model as a function of training set size."
   ]
  },
  {
   "cell_type": "code",
   "execution_count": 87,
   "metadata": {},
   "outputs": [
    {
     "data": {
      "text/plain": [
       "Text(0, 0.5, 'Error')"
      ]
     },
     "execution_count": 87,
     "metadata": {},
     "output_type": "execute_result"
    },
    {
     "data": {
      "image/png": "[encoded data removed]",
      "text/plain": [
       "<Figure size 432x288 with 1 Axes>"
      ]
     },
     "metadata": {
      "needs_background": "light"
     },
     "output_type": "display_data"
    }
   ],
   "source": [
    "data_size=[10000,20000,30000,40000,50000,60000]\n",
    "test_error=[]\n",
    "train_error=[]\n",
    "clf = MultinomialNB(alpha=0.1)\n",
    "sel=SelectKBest(score_func=chi2,k=100000)\n",
    "pipeline=Pipeline([('sel',sel),('clf',clf)])\n",
    "\n",
    "\n",
    "\n",
    "X_train, X_test, y_train, y_test = train_test_split( X_train_tfidf, np.ravel(targets.values), test_size=0.3,random_state=42)\n",
    "for i in data_size:\n",
    "    pipeline.fit(X_train[0:i,:],y_train[0:i])\n",
    "    train_pred=pipeline.predict(X_train[0:i,:])\n",
    "    y_prediction = pipeline.predict(X_test)\n",
    "    test_error.append(1-accuracy_score(y_true = y_test, y_pred = y_prediction))\n",
    "    train_error.append(1-accuracy_score(y_true = y_train[0:i], y_pred = train_pred))\n",
    "plt.plot(data_size,test_error,label='test error')\n",
    "plt.plot(data_size,train_error,label='training error')\n",
    "plt.legend()\n",
    "plt.xlabel('Training Set Size')\n",
    "plt.ylabel('Error')"
   ]
  },
  {
   "cell_type": "markdown",
   "metadata": {},
   "source": [
    "We see that as I give the model more training data, its test error goes down and its training error goes up. This is a sign that the model is not underfitting the data and that if given more data it would continue to improve."
   ]
  },
  {
   "cell_type": "markdown",
   "metadata": {},
   "source": [
    "Finally, I examine my classifier to see which words most strongly influenced the model to classify a tweet as either Democrat or Republican. This is most straightforward using Logistic Regression."
   ]
  },
  {
   "cell_type": "markdown",
   "metadata": {},
   "source": [
    "The list of word coefficients is given by applying method,  '.coef_ '  to our classifier"
   ]
  },
  {
   "cell_type": "code",
   "execution_count": 149,
   "metadata": {
    "scrolled": true
   },
   "outputs": [
    {
     "data": {
      "text/plain": [
       "LogisticRegression(C=10, class_weight=None, dual=False, fit_intercept=True,\n",
       "          intercept_scaling=1, max_iter=100, multi_class='warn',\n",
       "          n_jobs=None, penalty='l2', random_state=None, solver='liblinear',\n",
       "          tol=0.0001, verbose=0, warm_start=False)"
      ]
     },
     "execution_count": 149,
     "metadata": {},
     "output_type": "execute_result"
    }
   ],
   "source": [
    "clf=LogisticRegression(solver='liblinear',C=10)\n",
    "clf.fit(X,y)"
   ]
  },
  {
   "cell_type": "markdown",
   "metadata": {},
   "source": [
    "Next we order the coefficients, a higher negative value indicates a more Democrat correlated word and a higher positive value indicates a more Republican one. We find the ten lowest coefficents and look at their corresponding words"
   ]
  },
  {
   "cell_type": "code",
   "execution_count": 150,
   "metadata": {
    "scrolled": true
   },
   "outputs": [
    {
     "data": {
      "text/plain": [
       "['goptaxscam',\n",
       " 'trump',\n",
       " 'netneutrality',\n",
       " 'trumps',\n",
       " 'energycommerce',\n",
       " 'repdarrensoto',\n",
       " 'officialcbc',\n",
       " 'pruitt',\n",
       " 'republicans',\n",
       " 'dreamers',\n",
       " 'housedemocrats']"
      ]
     },
     "execution_count": 150,
     "metadata": {},
     "output_type": "execute_result"
    }
   ],
   "source": [
    "most=np.argsort(clf.coef_)[0,0:11]\n",
    "[count_vect.get_feature_names()[i] for i in most]"
   ]
  },
  {
   "cell_type": "markdown",
   "metadata": {},
   "source": [
    "The viral hashtag #goptaxscam referring to the Republican tax bill is (obviously) a strong indicator of a Democratic tweet. In addition, one sees names of democratic congressmen like 'repdarrensoto' and progressive issues like 'netneutrality'."
   ]
  },
  {
   "cell_type": "markdown",
   "metadata": {},
   "source": [
    "Next I look at the most Republican correlated words:"
   ]
  },
  {
   "cell_type": "code",
   "execution_count": 151,
   "metadata": {},
   "outputs": [
    {
     "name": "stdout",
     "output_type": "stream",
     "text": [
      "rt housegop\n",
      "housecommerce\n",
      "taxcutsandjobsact\n",
      "chairman\n",
      "rt speakerryan\n",
      "foxnews\n",
      "schumershutdown\n",
      "obamacare\n",
      "rt realdonaldtrump\n",
      "repmarkwalker\n"
     ]
    }
   ],
   "source": [
    "most=np.argsort(clf.coef_)[0,-11:-1]\n",
    "for i in reversed([count_vect.get_feature_names()[i] for i in most]):\n",
    "    print(i)"
   ]
  },
  {
   "cell_type": "markdown",
   "metadata": {},
   "source": [
    "We see that the more positive description of the Republican tax bill, 'taxcutsandjobsact' is strongly correlated with Republicans, as well as names of Republican congressmen such as 'speakerryan'."
   ]
  }
 ],
 "metadata": {
  "kernelspec": {
   "display_name": "Python 3",
   "language": "python",
   "name": "python3"
  },
  "language_info": {
   "codemirror_mode": {
    "name": "ipython",
    "version": 3
   },
   "file_extension": ".py",
   "mimetype": "text/x-python",
   "name": "python",
   "nbconvert_exporter": "python",
   "pygments_lexer": "ipython3",
   "version": "3.8.2"
  }
 },
 "nbformat": 4,
 "nbformat_minor": 2
}
