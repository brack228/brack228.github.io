{
 "cells": [
  {
   "cell_type": "markdown",
   "metadata": {},
   "source": [
    "# Party Classification by Tweet"
   ]
  },
  {
   "cell_type": "markdown",
   "metadata": {},
   "source": [
    "In this notebook I will build a model that classifies tweets as either coming from a Democrat or a Republican politcian. To train my model I will use a collection of the latest 200 tweets (as of May 17th, 2018) from every member of the House of Representatives. This data set can be found at https://www.kaggle.com/kapastor/democratvsrepublicantweets#ExtractedTweets.csv"
   ]
  },
  {
   "cell_type": "code",
   "execution_count": 1,
   "metadata": {},
   "outputs": [],
   "source": [
    "%matplotlib inline\n",
    "import string\n",
    "import numpy as np\n",
    "import matplotlib\n",
    "import matplotlib.pyplot as plt\n",
    "matplotlib.rc('xtick', labelsize=14) \n",
    "matplotlib.rc('ytick', labelsize=14)\n",
    "from sklearn.model_selection import train_test_split\n",
    "from sklearn.feature_extraction.text import CountVectorizer\n",
    "from sklearn.feature_extraction.text import TfidfTransformer\n",
    "from sklearn.naive_bayes import MultinomialNB\n",
    "from sklearn import svm\n",
    "from sklearn.svm import SVC\n",
    "import pandas as pd\n",
    "from sklearn.model_selection import cross_val_score\n",
    "from sklearn.utils import shuffle\n",
    "from sklearn.metrics import accuracy_score\n",
    "import re\n"
   ]
  },
  {
   "cell_type": "markdown",
   "metadata": {},
   "source": [
    "The collection of tweets is stored under the variable 'data', the corresponding party label will stored stored under 'targets', we see that the data set has 86,460 samples"
   ]
  },
  {
   "cell_type": "code",
   "execution_count": 2,
   "metadata": {},
   "outputs": [
    {
     "data": {
      "text/plain": [
       "(86460,)"
      ]
     },
     "execution_count": 2,
     "metadata": {},
     "output_type": "execute_result"
    }
   ],
   "source": [
    "data=pd.read_csv('ExtractedTweets.csv')['Tweet']\n",
    "targets=pd.read_csv('ExtractedTweets.csv')[['Party']]\n",
    "data.shape"
   ]
  },
  {
   "cell_type": "markdown",
   "metadata": {},
   "source": [
    "First, I do some preprocessing, the following for loop removes all apostrophes and URLs from the tweet data set"
   ]
  },
  {
   "cell_type": "code",
   "execution_count": 3,
   "metadata": {},
   "outputs": [],
   "source": [
    "for i in range(len(data)):\n",
    "    data[i]=data[i].replace(\"’\",\"\")\n",
    "    data[i]=data[i].replace(\"''\",\"\")\n",
    "    data[i]=re.sub(r\"http\\S+\", \"\", data[i])\n",
    "    data[i]=' '.join(s for s in data[i].split() if not any(c.isdigit() for c in s))\n",
    "    \n"
   ]
  },
  {
   "cell_type": "markdown",
   "metadata": {},
   "source": [
    "Next, I use the CountVectorizer utility to turn the tweets into a bag of words model, this will convert each tweet into a vector over the space of possible words. The value of a given dimension of the vector corresponds to the number of times that word appears in the tweet. "
   ]
  },
  {
   "cell_type": "code",
   "execution_count": 52,
   "metadata": {},
   "outputs": [
    {
     "data": {
      "text/plain": [
       "(86460, 56896)"
      ]
     },
     "execution_count": 52,
     "metadata": {},
     "output_type": "execute_result"
    }
   ],
   "source": [
    "\n",
    "count_vect = CountVectorizer(ngram_range=(1,1))\n",
    "X_train_counts = count_vect.fit_transform(data)\n",
    "X_train_counts.shape\n"
   ]
  },
  {
   "cell_type": "markdown",
   "metadata": {},
   "source": [
    "We can see from the output of X_train_counts.shape that there are a total of 56,896 different words in the dataset."
   ]
  },
  {
   "cell_type": "markdown",
   "metadata": {},
   "source": [
    "Next I use the utility TfidfTransformer, this will scale the count vectors to give more weight to unique words in the data set and give less weight to very common words e.g.(the, as, we etc.)"
   ]
  },
  {
   "cell_type": "code",
   "execution_count": 53,
   "metadata": {},
   "outputs": [],
   "source": [
    "\n",
    ">>> tfidf_transformer = TfidfTransformer()\n",
    ">>> X_train_tfidf = tfidf_transformer.fit_transform(X_train_counts)\n",
    "\n",
    "\n"
   ]
  },
  {
   "cell_type": "markdown",
   "metadata": {},
   "source": [
    "Finally, I shuffle the order of the data so that the initial ordering does not bias the classifier."
   ]
  },
  {
   "cell_type": "code",
   "execution_count": 54,
   "metadata": {},
   "outputs": [],
   "source": [
    "X,y=shuffle(X_train_tfidf,np.ravel(targets.values))\n"
   ]
  },
  {
   "cell_type": "markdown",
   "metadata": {},
   "source": [
    "Now the data is ready to be fed into a classification model, I will try out several different types of classifiers. \n",
    "\n",
    "In the following cell I fit the data to a multinomial Naive Bayes model and estimate the accuracy using 5-fold cross validation. The optimal value of alpha=0.15 was found using grid search (see below)."
   ]
  },
  {
   "cell_type": "code",
   "execution_count": 55,
   "metadata": {},
   "outputs": [
    {
     "data": {
      "text/plain": [
       "0.8037127578476605"
      ]
     },
     "execution_count": 55,
     "metadata": {},
     "output_type": "execute_result"
    }
   ],
   "source": [
    ">>> from sklearn.naive_bayes import MultinomialNB\n",
    ">>> clf = MultinomialNB(alpha=.15)\n",
    "cross_val_score(clf, X,y, cv=5).mean()\n"
   ]
  },
  {
   "cell_type": "markdown",
   "metadata": {},
   "source": [
    "We see that the NB algorithm has about an 80% success rate. Next I try a Logistic Regression model, the regulariztion parameter was again found using grid search."
   ]
  },
  {
   "cell_type": "code",
   "execution_count": 56,
   "metadata": {},
   "outputs": [
    {
     "data": {
      "text/plain": [
       "0.7993522897338672"
      ]
     },
     "execution_count": 56,
     "metadata": {},
     "output_type": "execute_result"
    }
   ],
   "source": [
    "from sklearn.linear_model import LogisticRegression\n",
    "clf=LogisticRegression(C=10.0,fit_intercept=False,solver='sag',max_iter=5000)\n",
    "cross_val_score(clf, X, y, cv=5).mean()\n"
   ]
  },
  {
   "cell_type": "markdown",
   "metadata": {},
   "source": [
    "Again, we see about an 80% classification accuracy. Next I try a Support Vector Machine with a linear decision boundary"
   ]
  },
  {
   "cell_type": "code",
   "execution_count": 23,
   "metadata": {},
   "outputs": [
    {
     "data": {
      "text/plain": [
       "0.8015614579582309"
      ]
     },
     "execution_count": 23,
     "metadata": {},
     "output_type": "execute_result"
    }
   ],
   "source": [
    "from sklearn.svm import LinearSVC\n",
    "clf = svm.LinearSVC(C=.8, loss='squared_hinge',max_iter=5000)\n",
    "cross_val_score(clf, X, y, cv=5).mean()"
   ]
  },
  {
   "cell_type": "markdown",
   "metadata": {},
   "source": [
    "Finally, I try a Decision Tree Classifier:"
   ]
  },
  {
   "cell_type": "code",
   "execution_count": 26,
   "metadata": {},
   "outputs": [
    {
     "data": {
      "text/plain": [
       "0.6321650724710366"
      ]
     },
     "execution_count": 26,
     "metadata": {},
     "output_type": "execute_result"
    }
   ],
   "source": [
    "from sklearn.tree import DecisionTreeClassifier\n",
    "clf = DecisionTreeClassifier(max_depth=100)\n",
    "cross_val_score(clf, X,y, cv=5).mean()"
   ]
  },
  {
   "cell_type": "markdown",
   "metadata": {},
   "source": [
    "We see that the Naive Bayes, Logistic Regression, and Support Vector Machine algorithms all have an accuracy around 80%, while the Decision Tree classifier is only ~63% accurate"
   ]
  },
  {
   "cell_type": "markdown",
   "metadata": {},
   "source": [
    "One may wonder how I chose the specific parameters for my classification models, this is done using grid search. Grid search performs the classification task for a given parameter range and outputs the parameter that leads to the best performing model. An example of grid search for a Naive Bayes model is given below:"
   ]
  },
  {
   "cell_type": "code",
   "execution_count": 57,
   "metadata": {},
   "outputs": [
    {
     "name": "stdout",
     "output_type": "stream",
     "text": [
      "alpha: 0.15\n"
     ]
    }
   ],
   "source": [
    "from sklearn.model_selection import GridSearchCV\n",
    "clf = MultinomialNB()\n",
    "parameters = {'alpha': [.1,.15,.2,.25,.3,.35,.4,.5,.6,.7,.8,1,2,5,10]}\n",
    "gs_clf = GridSearchCV(clf,parameters, cv=5, iid=False, n_jobs=-1) \n",
    "gs_clf = gs_clf.fit(X, y)\n",
    "for param_name in sorted(parameters.keys()):\n",
    "    print(\"%s: %r\" % (param_name, gs_clf.best_params_[param_name]))\n",
    "\n"
   ]
  },
  {
   "cell_type": "markdown",
   "metadata": {},
   "source": [
    "As of now, my model seems to maxing out at 80% accuracy, how can this be improved upon? What might be causing our 20% error rate?\n",
    "One reason may be the quality of our data, one can see by examining this data set that many tweets are cut off significantly, for example let's look at the first tweet:\n"
   ]
  },
  {
   "cell_type": "code",
   "execution_count": 58,
   "metadata": {},
   "outputs": [
    {
     "data": {
      "text/plain": [
       "'Today, Senate Dems vote to #SaveTheInternet. Proud to support similar #NetNeutrality legislation here in the House…'"
      ]
     },
     "execution_count": 58,
     "metadata": {},
     "output_type": "execute_result"
    }
   ],
   "source": [
    "data[0]"
   ]
  },
  {
   "cell_type": "markdown",
   "metadata": {},
   "source": [
    "A Google search lead me to the full tweet:\n",
    "\n",
    "\"Today, Senate Dems vote to #SaveTheInternet. Proud to support similar #NetNeutrality legislation here in the House to protect small businesses & innovators in our district. The fight for a free and open internet continues! #Sayfie\"\n",
    "\n",
    "One can see we are missing lots of valuable information by cutting off the tweets like this, especially from the hashtags that are often at the end of the tweet."
   ]
  },
  {
   "cell_type": "markdown",
   "metadata": {},
   "source": [
    "Another cause of error may be an insufficient quanitity of data. Would one expect the model to perform better if fed a larger data set? Below I plot the training and test error for the Naive Bayes model as a function of training set size."
   ]
  },
  {
   "cell_type": "code",
   "execution_count": 33,
   "metadata": {},
   "outputs": [
    {
     "data": {
      "text/plain": [
       "Text(0,0.5,'Error')"
      ]
     },
     "execution_count": 33,
     "metadata": {},
     "output_type": "execute_result"
    },
    {
     "data": {
      "image/png": "[encoded data removed]",
      "text/plain": [
       "<Figure size 432x288 with 1 Axes>"
      ]
     },
     "metadata": {},
     "output_type": "display_data"
    }
   ],
   "source": [
    "data_size=[10000,20000,30000,40000,50000,60000]\n",
    "test_error=[]\n",
    "train_error=[]\n",
    "clf = MultinomialNB(alpha=.15)\n",
    "X_train, X_test, y_train, y_test = train_test_split( X_train_tfidf, np.ravel(targets.values), test_size=0.3,random_state=42)\n",
    "for i in data_size:\n",
    "    clf.fit(X_train[0:i,:],y_train[0:i])\n",
    "    train_pred=clf.predict(X_train[0:i,:])\n",
    "    y_prediction = clf.predict(X_test)\n",
    "    test_error.append(1-accuracy_score(y_true = y_test, y_pred = y_prediction))\n",
    "    train_error.append(1-accuracy_score(y_true = y_train[0:i], y_pred = train_pred))\n",
    "plt.plot(data_size,test_error,label='test error')\n",
    "plt.plot(data_size,train_error,label='training error')\n",
    "plt.legend()\n",
    "plt.xlabel('Training Set Size')\n",
    "plt.ylabel('Error')"
   ]
  },
  {
   "cell_type": "markdown",
   "metadata": {},
   "source": [
    "We see that as I give the model more training data, its test error goes down and its training error goes up. This is a sign that the model is not underfitting the data and that if given more data it would continue to improve."
   ]
  },
  {
   "cell_type": "markdown",
   "metadata": {},
   "source": [
    "Finally, I examine my classifier to see which words most strongly influenced the model to classify a tweet as either Democrat or Republican. This is most straightforward using Logistic Regression."
   ]
  },
  {
   "cell_type": "markdown",
   "metadata": {},
   "source": [
    "The list of word coefficients is given by applying method,  '.coef_ '  to our classifier"
   ]
  },
  {
   "cell_type": "code",
   "execution_count": 59,
   "metadata": {
    "scrolled": false
   },
   "outputs": [
    {
     "data": {
      "text/plain": [
       "array([[ 0.42225142, -0.62628947,  0.85865053, ...,  0.9750673 ,\n",
       "        -0.54125047, -0.01188435]])"
      ]
     },
     "execution_count": 59,
     "metadata": {},
     "output_type": "execute_result"
    }
   ],
   "source": [
    "LogisticRegression(C=10.0,fit_intercept=False,solver='sag',max_iter=5000).fit(X,y).coef_"
   ]
  },
  {
   "cell_type": "markdown",
   "metadata": {},
   "source": [
    "Next we order the coefficients, a higher negative value indicates a more Democrat correlated word and a higher positive value indicates a more Republican one. We find the ten lowest coefficents and look at their corresponding words"
   ]
  },
  {
   "cell_type": "code",
   "execution_count": 60,
   "metadata": {
    "scrolled": true
   },
   "outputs": [
    {
     "data": {
      "text/plain": [
       "['goptaxscam',\n",
       " 'energycommerce',\n",
       " 'repdarrensoto',\n",
       " 'netneutrality',\n",
       " 'officialcbc',\n",
       " 'hispaniccaucus',\n",
       " 'repdwightevans',\n",
       " 'oversightdems',\n",
       " 'housejuddems',\n",
       " 'trumpshutdown',\n",
       " 'waysmeanscmte']"
      ]
     },
     "execution_count": 60,
     "metadata": {},
     "output_type": "execute_result"
    }
   ],
   "source": [
    "most=np.argsort(LogisticRegression(C=10.0,fit_intercept=False,solver='sag',max_iter=5000).fit(X,y).coef_)[0,0:11]\n",
    "[count_vect.get_feature_names()[i] for i in most]"
   ]
  },
  {
   "cell_type": "markdown",
   "metadata": {},
   "source": [
    "The viral hashtag #goptaxscam referring to the Republican tax bill is (obviously) a strong indicator of a Democratic tweet. In addition, one sees names of democratic congressmen like 'repdarrensoto' and progressive issues like 'netneutrality'."
   ]
  },
  {
   "cell_type": "markdown",
   "metadata": {},
   "source": [
    "Next I look at the most Republican correlated words:"
   ]
  },
  {
   "cell_type": "code",
   "execution_count": 61,
   "metadata": {},
   "outputs": [
    {
     "name": "stdout",
     "output_type": "stream",
     "text": [
      "taxcutsandjobsact\n",
      "justinamash\n",
      "schumershutdown\n",
      "housecommerce\n",
      "graham\n",
      "houseappropsgop\n",
      "hascrepublicans\n",
      "bonuses\n",
      "repmarkwalker\n",
      "jim_jordan\n"
     ]
    }
   ],
   "source": [
    "most=np.argsort(LogisticRegression(C=10.0,fit_intercept=False,solver='sag',max_iter=5000).fit(X,y).coef_)[0,-11:-1]\n",
    "for i in reversed([count_vect.get_feature_names()[i] for i in most]):\n",
    "    print(i)"
   ]
  },
  {
   "cell_type": "markdown",
   "metadata": {},
   "source": [
    "We see that the more positive description of the Republican tax bill, 'taxcutsandjobsact' is strongly correlated with Republicans, as well as names of Republican congressmen such as 'justinamash'."
   ]
  },
  {
   "cell_type": "code",
   "execution_count": null,
   "metadata": {},
   "outputs": [],
   "source": []
  }
 ],
 "metadata": {
  "kernelspec": {
   "display_name": "Python 3",
   "language": "python",
   "name": "python3"
  },
  "language_info": {
   "codemirror_mode": {
    "name": "ipython",
    "version": 3
   },
   "file_extension": ".py",
   "mimetype": "text/x-python",
   "name": "python",
   "nbconvert_exporter": "python",
   "pygments_lexer": "ipython3",
   "version": "3.6.5"
  }
 },
 "nbformat": 4,
 "nbformat_minor": 2
}
