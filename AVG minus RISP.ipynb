{
 "cells": [
  {
   "cell_type": "markdown",
   "metadata": {},
   "source": [
    "# Batting Average with Runners in Scoring Position"
   ]
  },
  {
   "cell_type": "markdown",
   "metadata": {},
   "source": [
    "This notebook will test the hypothesis that a player's batting average is independent of whether there are runners in scoring postion, one may expect this from the batter's persepctive given that the objective is to try to get a hit no matter how many men are on base."
   ]
  },
  {
   "cell_type": "code",
   "execution_count": 1,
   "metadata": {},
   "outputs": [],
   "source": [
    "import pandas as pd\n",
    "import numpy as np\n",
    "import matplotlib.pyplot as plt\n",
    "from scipy import stats\n"
   ]
  },
  {
   "cell_type": "markdown",
   "metadata": {},
   "source": [
    "First we import batting average data from www.fangraphs.com for qualified hitters from the 2002 season on."
   ]
  },
  {
   "cell_type": "code",
   "execution_count": 2,
   "metadata": {},
   "outputs": [],
   "source": [
    "avg=pd.read_csv('Splits Leaderboard Data .csv')"
   ]
  },
  {
   "cell_type": "code",
   "execution_count": 3,
   "metadata": {},
   "outputs": [],
   "source": [
    "risp=pd.read_csv('Splits Leaderboard Data Runners in Scoring.csv')"
   ]
  },
  {
   "cell_type": "code",
   "execution_count": 4,
   "metadata": {},
   "outputs": [],
   "source": [
    "avg=avg[['Season','Name','AVG']]"
   ]
  },
  {
   "cell_type": "code",
   "execution_count": 5,
   "metadata": {},
   "outputs": [],
   "source": [
    "risp=risp[['Season','Name','AVG']]"
   ]
  },
  {
   "cell_type": "code",
   "execution_count": 6,
   "metadata": {},
   "outputs": [],
   "source": [
    "risp=risp.rename(columns={'AVG':'RISPAVG'})"
   ]
  },
  {
   "cell_type": "markdown",
   "metadata": {},
   "source": [
    "We can now examine our data frames, which contain a row for each players season stats, and list the player's overall batting average or his average with runners in scoring position (RISP)"
   ]
  },
  {
   "cell_type": "code",
   "execution_count": 7,
   "metadata": {
    "scrolled": true
   },
   "outputs": [
    {
     "data": {
      "text/html": [
       "<div>\n",
       "<style scoped>\n",
       "    .dataframe tbody tr th:only-of-type {\n",
       "        vertical-align: middle;\n",
       "    }\n",
       "\n",
       "    .dataframe tbody tr th {\n",
       "        vertical-align: top;\n",
       "    }\n",
       "\n",
       "    .dataframe thead th {\n",
       "        text-align: right;\n",
       "    }\n",
       "</style>\n",
       "<table border=\"1\" class=\"dataframe\">\n",
       "  <thead>\n",
       "    <tr style=\"text-align: right;\">\n",
       "      <th></th>\n",
       "      <th>Season</th>\n",
       "      <th>Name</th>\n",
       "      <th>RISPAVG</th>\n",
       "    </tr>\n",
       "  </thead>\n",
       "  <tbody>\n",
       "    <tr>\n",
       "      <th>0</th>\n",
       "      <td>2002</td>\n",
       "      <td>Garret Anderson</td>\n",
       "      <td>0.316667</td>\n",
       "    </tr>\n",
       "    <tr>\n",
       "      <th>1</th>\n",
       "      <td>2002</td>\n",
       "      <td>David Eckstein</td>\n",
       "      <td>0.285714</td>\n",
       "    </tr>\n",
       "    <tr>\n",
       "      <th>2</th>\n",
       "      <td>2002</td>\n",
       "      <td>Darin Erstad</td>\n",
       "      <td>0.259036</td>\n",
       "    </tr>\n",
       "    <tr>\n",
       "      <th>3</th>\n",
       "      <td>2002</td>\n",
       "      <td>Jorge Fabregas</td>\n",
       "      <td>0.175439</td>\n",
       "    </tr>\n",
       "    <tr>\n",
       "      <th>4</th>\n",
       "      <td>2002</td>\n",
       "      <td>Brad Fullmer</td>\n",
       "      <td>0.264151</td>\n",
       "    </tr>\n",
       "  </tbody>\n",
       "</table>\n",
       "</div>"
      ],
      "text/plain": [
       "   Season             Name   RISPAVG\n",
       "0    2002  Garret Anderson  0.316667\n",
       "1    2002   David Eckstein  0.285714\n",
       "2    2002     Darin Erstad  0.259036\n",
       "3    2002   Jorge Fabregas  0.175439\n",
       "4    2002     Brad Fullmer  0.264151"
      ]
     },
     "execution_count": 7,
     "metadata": {},
     "output_type": "execute_result"
    }
   ],
   "source": [
    "risp.head()"
   ]
  },
  {
   "cell_type": "code",
   "execution_count": 8,
   "metadata": {},
   "outputs": [
    {
     "data": {
      "text/html": [
       "<div>\n",
       "<style scoped>\n",
       "    .dataframe tbody tr th:only-of-type {\n",
       "        vertical-align: middle;\n",
       "    }\n",
       "\n",
       "    .dataframe tbody tr th {\n",
       "        vertical-align: top;\n",
       "    }\n",
       "\n",
       "    .dataframe thead th {\n",
       "        text-align: right;\n",
       "    }\n",
       "</style>\n",
       "<table border=\"1\" class=\"dataframe\">\n",
       "  <thead>\n",
       "    <tr style=\"text-align: right;\">\n",
       "      <th></th>\n",
       "      <th>Season</th>\n",
       "      <th>Name</th>\n",
       "      <th>AVG</th>\n",
       "    </tr>\n",
       "  </thead>\n",
       "  <tbody>\n",
       "    <tr>\n",
       "      <th>0</th>\n",
       "      <td>2002</td>\n",
       "      <td>Garret Anderson</td>\n",
       "      <td>0.305643</td>\n",
       "    </tr>\n",
       "    <tr>\n",
       "      <th>1</th>\n",
       "      <td>2002</td>\n",
       "      <td>David Eckstein</td>\n",
       "      <td>0.292763</td>\n",
       "    </tr>\n",
       "    <tr>\n",
       "      <th>2</th>\n",
       "      <td>2002</td>\n",
       "      <td>Darin Erstad</td>\n",
       "      <td>0.283200</td>\n",
       "    </tr>\n",
       "    <tr>\n",
       "      <th>3</th>\n",
       "      <td>2002</td>\n",
       "      <td>Brad Fullmer</td>\n",
       "      <td>0.289044</td>\n",
       "    </tr>\n",
       "    <tr>\n",
       "      <th>4</th>\n",
       "      <td>2002</td>\n",
       "      <td>Troy Glaus</td>\n",
       "      <td>0.249561</td>\n",
       "    </tr>\n",
       "  </tbody>\n",
       "</table>\n",
       "</div>"
      ],
      "text/plain": [
       "   Season             Name       AVG\n",
       "0    2002  Garret Anderson  0.305643\n",
       "1    2002   David Eckstein  0.292763\n",
       "2    2002     Darin Erstad  0.283200\n",
       "3    2002     Brad Fullmer  0.289044\n",
       "4    2002       Troy Glaus  0.249561"
      ]
     },
     "execution_count": 8,
     "metadata": {},
     "output_type": "execute_result"
    }
   ],
   "source": [
    "avg.head()"
   ]
  },
  {
   "cell_type": "markdown",
   "metadata": {},
   "source": [
    "Next we merge the two data frames so that we have each batters batting average (AVG) and AVG with RISP (runners in scoring position) in the same row"
   ]
  },
  {
   "cell_type": "code",
   "execution_count": 9,
   "metadata": {},
   "outputs": [],
   "source": [
    "df=pd.merge(avg,risp)"
   ]
  },
  {
   "cell_type": "code",
   "execution_count": 10,
   "metadata": {},
   "outputs": [
    {
     "data": {
      "text/html": [
       "<div>\n",
       "<style scoped>\n",
       "    .dataframe tbody tr th:only-of-type {\n",
       "        vertical-align: middle;\n",
       "    }\n",
       "\n",
       "    .dataframe tbody tr th {\n",
       "        vertical-align: top;\n",
       "    }\n",
       "\n",
       "    .dataframe thead th {\n",
       "        text-align: right;\n",
       "    }\n",
       "</style>\n",
       "<table border=\"1\" class=\"dataframe\">\n",
       "  <thead>\n",
       "    <tr style=\"text-align: right;\">\n",
       "      <th></th>\n",
       "      <th>Season</th>\n",
       "      <th>Name</th>\n",
       "      <th>AVG</th>\n",
       "      <th>RISPAVG</th>\n",
       "    </tr>\n",
       "  </thead>\n",
       "  <tbody>\n",
       "    <tr>\n",
       "      <th>0</th>\n",
       "      <td>2002</td>\n",
       "      <td>Garret Anderson</td>\n",
       "      <td>0.305643</td>\n",
       "      <td>0.316667</td>\n",
       "    </tr>\n",
       "    <tr>\n",
       "      <th>1</th>\n",
       "      <td>2002</td>\n",
       "      <td>David Eckstein</td>\n",
       "      <td>0.292763</td>\n",
       "      <td>0.285714</td>\n",
       "    </tr>\n",
       "    <tr>\n",
       "      <th>2</th>\n",
       "      <td>2002</td>\n",
       "      <td>Darin Erstad</td>\n",
       "      <td>0.283200</td>\n",
       "      <td>0.259036</td>\n",
       "    </tr>\n",
       "    <tr>\n",
       "      <th>3</th>\n",
       "      <td>2002</td>\n",
       "      <td>Brad Fullmer</td>\n",
       "      <td>0.289044</td>\n",
       "      <td>0.264151</td>\n",
       "    </tr>\n",
       "    <tr>\n",
       "      <th>4</th>\n",
       "      <td>2002</td>\n",
       "      <td>Troy Glaus</td>\n",
       "      <td>0.249561</td>\n",
       "      <td>0.292683</td>\n",
       "    </tr>\n",
       "  </tbody>\n",
       "</table>\n",
       "</div>"
      ],
      "text/plain": [
       "   Season             Name       AVG   RISPAVG\n",
       "0    2002  Garret Anderson  0.305643  0.316667\n",
       "1    2002   David Eckstein  0.292763  0.285714\n",
       "2    2002     Darin Erstad  0.283200  0.259036\n",
       "3    2002     Brad Fullmer  0.289044  0.264151\n",
       "4    2002       Troy Glaus  0.249561  0.292683"
      ]
     },
     "execution_count": 10,
     "metadata": {},
     "output_type": "execute_result"
    }
   ],
   "source": [
    "df.head()"
   ]
  },
  {
   "cell_type": "markdown",
   "metadata": {},
   "source": [
    "Now we add a column for the difference between the batters average and RISP average"
   ]
  },
  {
   "cell_type": "code",
   "execution_count": 11,
   "metadata": {},
   "outputs": [],
   "source": [
    "df['diff']=df['RISPAVG']-df['AVG']"
   ]
  },
  {
   "cell_type": "code",
   "execution_count": 12,
   "metadata": {},
   "outputs": [
    {
     "data": {
      "text/html": [
       "<div>\n",
       "<style scoped>\n",
       "    .dataframe tbody tr th:only-of-type {\n",
       "        vertical-align: middle;\n",
       "    }\n",
       "\n",
       "    .dataframe tbody tr th {\n",
       "        vertical-align: top;\n",
       "    }\n",
       "\n",
       "    .dataframe thead th {\n",
       "        text-align: right;\n",
       "    }\n",
       "</style>\n",
       "<table border=\"1\" class=\"dataframe\">\n",
       "  <thead>\n",
       "    <tr style=\"text-align: right;\">\n",
       "      <th></th>\n",
       "      <th>Season</th>\n",
       "      <th>Name</th>\n",
       "      <th>AVG</th>\n",
       "      <th>RISPAVG</th>\n",
       "      <th>diff</th>\n",
       "    </tr>\n",
       "  </thead>\n",
       "  <tbody>\n",
       "    <tr>\n",
       "      <th>0</th>\n",
       "      <td>2002</td>\n",
       "      <td>Garret Anderson</td>\n",
       "      <td>0.305643</td>\n",
       "      <td>0.316667</td>\n",
       "      <td>0.011024</td>\n",
       "    </tr>\n",
       "    <tr>\n",
       "      <th>1</th>\n",
       "      <td>2002</td>\n",
       "      <td>David Eckstein</td>\n",
       "      <td>0.292763</td>\n",
       "      <td>0.285714</td>\n",
       "      <td>-0.007049</td>\n",
       "    </tr>\n",
       "    <tr>\n",
       "      <th>2</th>\n",
       "      <td>2002</td>\n",
       "      <td>Darin Erstad</td>\n",
       "      <td>0.283200</td>\n",
       "      <td>0.259036</td>\n",
       "      <td>-0.024164</td>\n",
       "    </tr>\n",
       "    <tr>\n",
       "      <th>3</th>\n",
       "      <td>2002</td>\n",
       "      <td>Brad Fullmer</td>\n",
       "      <td>0.289044</td>\n",
       "      <td>0.264151</td>\n",
       "      <td>-0.024893</td>\n",
       "    </tr>\n",
       "    <tr>\n",
       "      <th>4</th>\n",
       "      <td>2002</td>\n",
       "      <td>Troy Glaus</td>\n",
       "      <td>0.249561</td>\n",
       "      <td>0.292683</td>\n",
       "      <td>0.043122</td>\n",
       "    </tr>\n",
       "    <tr>\n",
       "      <th>5</th>\n",
       "      <td>2002</td>\n",
       "      <td>Adam Kennedy</td>\n",
       "      <td>0.312236</td>\n",
       "      <td>0.273438</td>\n",
       "      <td>-0.038799</td>\n",
       "    </tr>\n",
       "    <tr>\n",
       "      <th>6</th>\n",
       "      <td>2002</td>\n",
       "      <td>Bengie Molina</td>\n",
       "      <td>0.245327</td>\n",
       "      <td>0.228346</td>\n",
       "      <td>-0.016981</td>\n",
       "    </tr>\n",
       "    <tr>\n",
       "      <th>7</th>\n",
       "      <td>2002</td>\n",
       "      <td>Orlando Palmeiro</td>\n",
       "      <td>0.300380</td>\n",
       "      <td>0.328767</td>\n",
       "      <td>0.028387</td>\n",
       "    </tr>\n",
       "    <tr>\n",
       "      <th>8</th>\n",
       "      <td>2002</td>\n",
       "      <td>Tim Salmon</td>\n",
       "      <td>0.285714</td>\n",
       "      <td>0.316129</td>\n",
       "      <td>0.030415</td>\n",
       "    </tr>\n",
       "    <tr>\n",
       "      <th>9</th>\n",
       "      <td>2002</td>\n",
       "      <td>Scott Spiezio</td>\n",
       "      <td>0.285132</td>\n",
       "      <td>0.335766</td>\n",
       "      <td>0.050634</td>\n",
       "    </tr>\n",
       "    <tr>\n",
       "      <th>10</th>\n",
       "      <td>2002</td>\n",
       "      <td>Craig Counsell</td>\n",
       "      <td>0.282110</td>\n",
       "      <td>0.363636</td>\n",
       "      <td>0.081526</td>\n",
       "    </tr>\n",
       "    <tr>\n",
       "      <th>11</th>\n",
       "      <td>2002</td>\n",
       "      <td>Steve Finley</td>\n",
       "      <td>0.287129</td>\n",
       "      <td>0.285714</td>\n",
       "      <td>-0.001414</td>\n",
       "    </tr>\n",
       "    <tr>\n",
       "      <th>12</th>\n",
       "      <td>2002</td>\n",
       "      <td>Luis Gonzalez</td>\n",
       "      <td>0.288168</td>\n",
       "      <td>0.355263</td>\n",
       "      <td>0.067095</td>\n",
       "    </tr>\n",
       "    <tr>\n",
       "      <th>13</th>\n",
       "      <td>2002</td>\n",
       "      <td>Mark Grace</td>\n",
       "      <td>0.251678</td>\n",
       "      <td>0.282828</td>\n",
       "      <td>0.031150</td>\n",
       "    </tr>\n",
       "    <tr>\n",
       "      <th>14</th>\n",
       "      <td>2002</td>\n",
       "      <td>Jose Guillen</td>\n",
       "      <td>0.237500</td>\n",
       "      <td>0.213333</td>\n",
       "      <td>-0.024167</td>\n",
       "    </tr>\n",
       "    <tr>\n",
       "      <th>15</th>\n",
       "      <td>2002</td>\n",
       "      <td>Damian Miller</td>\n",
       "      <td>0.249158</td>\n",
       "      <td>0.225000</td>\n",
       "      <td>-0.024158</td>\n",
       "    </tr>\n",
       "    <tr>\n",
       "      <th>16</th>\n",
       "      <td>2002</td>\n",
       "      <td>Junior Spivey</td>\n",
       "      <td>0.301115</td>\n",
       "      <td>0.288889</td>\n",
       "      <td>-0.012226</td>\n",
       "    </tr>\n",
       "    <tr>\n",
       "      <th>17</th>\n",
       "      <td>2002</td>\n",
       "      <td>Matt Williams</td>\n",
       "      <td>0.260465</td>\n",
       "      <td>0.271429</td>\n",
       "      <td>0.010963</td>\n",
       "    </tr>\n",
       "    <tr>\n",
       "      <th>18</th>\n",
       "      <td>2002</td>\n",
       "      <td>Tony Womack</td>\n",
       "      <td>0.271186</td>\n",
       "      <td>0.289855</td>\n",
       "      <td>0.018669</td>\n",
       "    </tr>\n",
       "    <tr>\n",
       "      <th>19</th>\n",
       "      <td>2002</td>\n",
       "      <td>Henry Blanco</td>\n",
       "      <td>0.203620</td>\n",
       "      <td>0.185185</td>\n",
       "      <td>-0.018435</td>\n",
       "    </tr>\n",
       "  </tbody>\n",
       "</table>\n",
       "</div>"
      ],
      "text/plain": [
       "    Season              Name       AVG   RISPAVG      diff\n",
       "0     2002   Garret Anderson  0.305643  0.316667  0.011024\n",
       "1     2002    David Eckstein  0.292763  0.285714 -0.007049\n",
       "2     2002      Darin Erstad  0.283200  0.259036 -0.024164\n",
       "3     2002      Brad Fullmer  0.289044  0.264151 -0.024893\n",
       "4     2002        Troy Glaus  0.249561  0.292683  0.043122\n",
       "5     2002      Adam Kennedy  0.312236  0.273438 -0.038799\n",
       "6     2002     Bengie Molina  0.245327  0.228346 -0.016981\n",
       "7     2002  Orlando Palmeiro  0.300380  0.328767  0.028387\n",
       "8     2002        Tim Salmon  0.285714  0.316129  0.030415\n",
       "9     2002     Scott Spiezio  0.285132  0.335766  0.050634\n",
       "10    2002    Craig Counsell  0.282110  0.363636  0.081526\n",
       "11    2002      Steve Finley  0.287129  0.285714 -0.001414\n",
       "12    2002     Luis Gonzalez  0.288168  0.355263  0.067095\n",
       "13    2002        Mark Grace  0.251678  0.282828  0.031150\n",
       "14    2002      Jose Guillen  0.237500  0.213333 -0.024167\n",
       "15    2002     Damian Miller  0.249158  0.225000 -0.024158\n",
       "16    2002     Junior Spivey  0.301115  0.288889 -0.012226\n",
       "17    2002     Matt Williams  0.260465  0.271429  0.010963\n",
       "18    2002       Tony Womack  0.271186  0.289855  0.018669\n",
       "19    2002      Henry Blanco  0.203620  0.185185 -0.018435"
      ]
     },
     "execution_count": 12,
     "metadata": {},
     "output_type": "execute_result"
    }
   ],
   "source": [
    "df.head(20)"
   ]
  },
  {
   "cell_type": "markdown",
   "metadata": {},
   "source": [
    "We see that some batters overperform and some underperform with RISP, but under our null hypothesis the mean difference between a batters average and RISP average should be zero. We calculate the mean below:"
   ]
  },
  {
   "cell_type": "code",
   "execution_count": 30,
   "metadata": {
    "scrolled": true
   },
   "outputs": [
    {
     "data": {
      "text/plain": [
       "0.0027419397872998573"
      ]
     },
     "execution_count": 30,
     "metadata": {},
     "output_type": "execute_result"
    }
   ],
   "source": [
    "df['diff'].mean()"
   ]
  },
  {
   "cell_type": "markdown",
   "metadata": {},
   "source": [
    "We see that on average, a batter will overperform his normal batting average by .0027 when a runner is in scoring position, Is this a significant deviation from our null hypothesis? \n",
    "\n",
    "To examine this, first note that by the Central Limit Theorem, the mean batting average difference should be distributed approximately normally. This can be seen from the histogram below which shows the distribution of our sample in blue with the normal distribution overlayed in orange"
   ]
  },
  {
   "cell_type": "code",
   "execution_count": 1,
   "metadata": {},
   "outputs": [
    {
     "ename": "NameError",
     "evalue": "name 'plt' is not defined",
     "output_type": "error",
     "traceback": [
      "\u001b[0;31m---------------------------------------------------------------------------\u001b[0m",
      "\u001b[0;31mNameError\u001b[0m                                 Traceback (most recent call last)",
      "\u001b[0;32m<ipython-input-1-efe03495162d>\u001b[0m in \u001b[0;36m<module>\u001b[0;34m()\u001b[0m\n\u001b[0;32m----> 1\u001b[0;31m \u001b[0mfig\u001b[0m\u001b[0;34m,\u001b[0m \u001b[0max\u001b[0m \u001b[0;34m=\u001b[0m \u001b[0mplt\u001b[0m\u001b[0;34m.\u001b[0m\u001b[0msubplots\u001b[0m\u001b[0;34m(\u001b[0m\u001b[0;34m)\u001b[0m\u001b[0;34m\u001b[0m\u001b[0m\n\u001b[0m\u001b[1;32m      2\u001b[0m \u001b[0;34m\u001b[0m\u001b[0m\n\u001b[1;32m      3\u001b[0m \u001b[0;34m\u001b[0m\u001b[0m\n\u001b[1;32m      4\u001b[0m \u001b[0mmyHist\u001b[0m \u001b[0;34m=\u001b[0m \u001b[0max\u001b[0m\u001b[0;34m.\u001b[0m\u001b[0mhist\u001b[0m\u001b[0;34m(\u001b[0m\u001b[0mdf\u001b[0m\u001b[0;34m[\u001b[0m\u001b[0;34m'diff'\u001b[0m\u001b[0;34m]\u001b[0m\u001b[0;34m,\u001b[0m \u001b[0;36m100\u001b[0m\u001b[0;34m,\u001b[0m\u001b[0mdensity\u001b[0m\u001b[0;34m=\u001b[0m\u001b[0;32mTrue\u001b[0m\u001b[0;34m)\u001b[0m\u001b[0;34m\u001b[0m\u001b[0m\n\u001b[1;32m      5\u001b[0m \u001b[0mx\u001b[0m \u001b[0;34m=\u001b[0m \u001b[0mnp\u001b[0m\u001b[0;34m.\u001b[0m\u001b[0marange\u001b[0m\u001b[0;34m(\u001b[0m\u001b[0;34m-\u001b[0m\u001b[0;36m.2\u001b[0m\u001b[0;34m,\u001b[0m \u001b[0;36m.2\u001b[0m\u001b[0;34m,\u001b[0m \u001b[0;36m0.001\u001b[0m\u001b[0;34m)\u001b[0m\u001b[0;34m\u001b[0m\u001b[0m\n",
      "\u001b[0;31mNameError\u001b[0m: name 'plt' is not defined"
     ]
    }
   ],
   "source": [
    "fig, ax = plt.subplots()\n",
    "\n",
    "\n",
    "myHist = ax.hist(df['diff'], 100,density=True)\n",
    "x = np.arange(-.2, .2, 0.001)\n",
    "h=ax.plot(x,(2*np.pi*df['diff'].var())**(-.5)*np.exp(-(x-df['diff'].mean())**2/(2*df['diff'].var())))\n",
    "plt.show()"
   ]
  },
  {
   "cell_type": "markdown",
   "metadata": {},
   "source": [
    "To see how significant our devitation is, we perform a T-test on our data, this will tell us the probability of getting a mean difference as large as we did from our sample assuming that the actual mean is zero"
   ]
  },
  {
   "cell_type": "code",
   "execution_count": 16,
   "metadata": {
    "scrolled": true
   },
   "outputs": [
    {
     "data": {
      "text/plain": [
       "-5.148098962296578"
      ]
     },
     "execution_count": 16,
     "metadata": {},
     "output_type": "execute_result"
    }
   ],
   "source": [
    "(0-df['diff'].mean())/(df['diff'].std()/np.sqrt(len(df['diff'])))"
   ]
  },
  {
   "cell_type": "code",
   "execution_count": 18,
   "metadata": {
    "scrolled": true
   },
   "outputs": [
    {
     "data": {
      "text/plain": [
       "2.7244281119997993e-07"
      ]
     },
     "execution_count": 18,
     "metadata": {},
     "output_type": "execute_result"
    }
   ],
   "source": [
    "2*(1-stats.t.cdf(5.148,len(df['diff']-1)))"
   ]
  },
  {
   "cell_type": "markdown",
   "metadata": {},
   "source": [
    "From the above calculations we  have a p-value of $2.72 \\times 10^{-7}$ , meaning that\n",
    "under the null hypothesis there is only a .000027% chance we would get a discrepancy this large, this strongly suggests that the null hypothesis is incorrect and runners in scoring postion do in fact impact a player's batting average."
   ]
  },
  {
   "cell_type": "markdown",
   "metadata": {},
   "source": [
    "Why might this be? One explanation may be that when there are runners in scoring position, the pitcher has likely already given up a hit that inning, this is indicitive that he is not pitching as well as he would be if he had not given up any hits. The  batter is therefore more likely to get a hit off a struggling pitcher.\n",
    "\n",
    "Lets see if we can test this theory.  First, note that when a runner is in scoring position, a manager is more likely to take his pitcher out of the game and replace him with a new pitcher from the bullpen. This pitcher is less tired and more likely to get the batter out. \n",
    "\n",
    "We will repeat analysis from above but only for the first 5 innings of the game, when the manager is less likely to go to the bullpen. This should result in a greater difference between batting average with RISP and regular batting average because the batter is less likely to be facing a new pitcher."
   ]
  },
  {
   "cell_type": "code",
   "execution_count": 19,
   "metadata": {},
   "outputs": [],
   "source": [
    "early=pd.read_csv('Splits Leaderboard Data 1st Inning 2nd Inning 3rd Inning 4th Inning 5th Inning.csv')"
   ]
  },
  {
   "cell_type": "code",
   "execution_count": 20,
   "metadata": {},
   "outputs": [],
   "source": [
    "earlyrisp=pd.read_csv(\"Splits Leaderboard Data 1st Inning 2nd Inning 3rd Inning 4th Inning 5th Inning Runners in Scoring.csv\")"
   ]
  },
  {
   "cell_type": "code",
   "execution_count": 21,
   "metadata": {},
   "outputs": [],
   "source": [
    "early=early[['Season','Name','AVG']]"
   ]
  },
  {
   "cell_type": "code",
   "execution_count": 22,
   "metadata": {},
   "outputs": [],
   "source": [
    "earlyrisp=earlyrisp[['Season','Name','AVG']]"
   ]
  },
  {
   "cell_type": "code",
   "execution_count": 23,
   "metadata": {},
   "outputs": [],
   "source": [
    "earlyrisp=earlyrisp.rename(columns={'AVG':'RISPAVG'})"
   ]
  },
  {
   "cell_type": "code",
   "execution_count": 24,
   "metadata": {},
   "outputs": [],
   "source": [
    "df2=pd.merge(early,earlyrisp)"
   ]
  },
  {
   "cell_type": "code",
   "execution_count": 25,
   "metadata": {},
   "outputs": [],
   "source": [
    "df2['diff']=df2['RISPAVG']-df2['AVG']"
   ]
  },
  {
   "cell_type": "code",
   "execution_count": 26,
   "metadata": {
    "scrolled": true
   },
   "outputs": [
    {
     "data": {
      "text/plain": [
       "0.0035251409503373314"
      ]
     },
     "execution_count": 26,
     "metadata": {},
     "output_type": "execute_result"
    }
   ],
   "source": [
    "df2['diff'].mean()"
   ]
  },
  {
   "cell_type": "markdown",
   "metadata": {},
   "source": [
    "We see that in the first five innings innings of the game, a batter does in fact hit even better with runners in scoring position than he does overall (a .0035 boost in batting average versus the .0027 we had before). Lets perform a T-test to see the significance of the result."
   ]
  },
  {
   "cell_type": "code",
   "execution_count": 27,
   "metadata": {},
   "outputs": [
    {
     "data": {
      "text/plain": [
       "0.05354269946654774"
      ]
     },
     "execution_count": 27,
     "metadata": {},
     "output_type": "execute_result"
    }
   ],
   "source": [
    "df2['diff'].std()"
   ]
  },
  {
   "cell_type": "code",
   "execution_count": 28,
   "metadata": {},
   "outputs": [
    {
     "data": {
      "text/plain": [
       "-1.0685158553671696"
      ]
     },
     "execution_count": 28,
     "metadata": {},
     "output_type": "execute_result"
    }
   ],
   "source": [
    "(df['diff'].mean()-df2['diff'].mean())/(df2['diff'].std()/np.sqrt(len(df2['diff'])))"
   ]
  },
  {
   "cell_type": "code",
   "execution_count": 29,
   "metadata": {},
   "outputs": [
    {
     "data": {
      "text/plain": [
       "0.2851180250451879"
      ]
     },
     "execution_count": 29,
     "metadata": {},
     "output_type": "execute_result"
    }
   ],
   "source": [
    "2*(1-stats.t.cdf(1.069,len(df2['diff']-1)))"
   ]
  },
  {
   "cell_type": "markdown",
   "metadata": {},
   "source": [
    "This time we have a p-value of .28 or a 28% chance of this occuring under the null hypothesis of there being no difference between early and late game. So although our mean difference is greater it is not statistically siginificant"
   ]
  },
  {
   "cell_type": "markdown",
   "metadata": {},
   "source": [
    "Consequently, we still do not have a satisfying explantion for the discrepancy between batting averages. Our above explanation could still be correct though, notice that even though we only took data from the first five innings in our second T-test, we did not require the data to be from situations where the batter is facing the same pitcher that put the runner in scoring position initially. To truly test our theory, we need a data set that only lists a batters AVG in this particular situation, but unfortunately this data was not available. \n",
    "\n",
    "The takeaway from this analysis is that batters do in fact hit (slightly) better with runner's in scoring postition, approximately .003 better on average, but the reason for this discrepancy cannot be explained convincingly as of yet."
   ]
  },
  {
   "cell_type": "code",
   "execution_count": null,
   "metadata": {},
   "outputs": [],
   "source": []
  }
 ],
 "metadata": {
  "kernelspec": {
   "display_name": "Python 3",
   "language": "python",
   "name": "python3"
  },
  "language_info": {
   "codemirror_mode": {
    "name": "ipython",
    "version": 3
   },
   "file_extension": ".py",
   "mimetype": "text/x-python",
   "name": "python",
   "nbconvert_exporter": "python",
   "pygments_lexer": "ipython3",
   "version": "3.6.5"
  }
 },
 "nbformat": 4,
 "nbformat_minor": 2
}
