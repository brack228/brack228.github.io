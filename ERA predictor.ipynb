{
 "cells": [
  {
   "cell_type": "markdown",
   "metadata": {},
   "source": [
    "# Year to year ERA prediction"
   ]
  },
  {
   "cell_type": "markdown",
   "metadata": {},
   "source": [
    "This notebook analyzes which statistics best predict a pitchers Earned Run Average, (ERA) from one year to the next"
   ]
  },
  {
   "cell_type": "code",
   "execution_count": 347,
   "metadata": {},
   "outputs": [],
   "source": [
    "import pandas as pd\n",
    "import numpy as np\n",
    "import matplotlib.pyplot as plt\n",
    "from sklearn.linear_model import LinearRegression\n",
    "from sklearn.model_selection import train_test_split\n",
    "from sklearn.metrics import mean_squared_error\n",
    "from sklearn.preprocessing import StandardScaler,MinMaxScaler\n",
    "from sklearn.model_selection import cross_val_score\n",
    "from sklearn.pipeline import Pipeline\n",
    "import sklearn\n",
    "import os\n",
    "os.environ['KMP_DUPLICATE_LIB_OK']='True'\n",
    "from sklearn.model_selection import GridSearchCV\n",
    "\n",
    "from xgboost import XGBRegressor\n",
    "\n",
    "%matplotlib inline"
   ]
  },
  {
   "cell_type": "markdown",
   "metadata": {},
   "source": [
    "We first import select pitching data for qualified starting pitchers from www.fangraphs.com in the date range 2002-2017, for an explanation of each statistic see https://www.fangraphs.com/library/pitching/ ."
   ]
  },
  {
   "cell_type": "code",
   "execution_count": 348,
   "metadata": {},
   "outputs": [],
   "source": [
    "stats=pd.read_csv('FanGraphs Leaderboard.csv')"
   ]
  },
  {
   "cell_type": "code",
   "execution_count": 349,
   "metadata": {
    "scrolled": true
   },
   "outputs": [
    {
     "data": {
      "text/html": [
       "<div>\n",
       "<style scoped>\n",
       "    .dataframe tbody tr th:only-of-type {\n",
       "        vertical-align: middle;\n",
       "    }\n",
       "\n",
       "    .dataframe tbody tr th {\n",
       "        vertical-align: top;\n",
       "    }\n",
       "\n",
       "    .dataframe thead th {\n",
       "        text-align: right;\n",
       "    }\n",
       "</style>\n",
       "<table border=\"1\" class=\"dataframe\">\n",
       "  <thead>\n",
       "    <tr style=\"text-align: right;\">\n",
       "      <th></th>\n",
       "      <th>Season</th>\n",
       "      <th>Name</th>\n",
       "      <th>Team</th>\n",
       "      <th>Age</th>\n",
       "      <th>K/9</th>\n",
       "      <th>BB/9</th>\n",
       "      <th>K/BB</th>\n",
       "      <th>H/9</th>\n",
       "      <th>HR/9</th>\n",
       "      <th>WHIP</th>\n",
       "      <th>...</th>\n",
       "      <th>F-Strike%</th>\n",
       "      <th>K%</th>\n",
       "      <th>BB%</th>\n",
       "      <th>Soft%</th>\n",
       "      <th>Med%</th>\n",
       "      <th>Hard%</th>\n",
       "      <th>ERA</th>\n",
       "      <th>xFIP</th>\n",
       "      <th>SIERA</th>\n",
       "      <th>playerid</th>\n",
       "    </tr>\n",
       "  </thead>\n",
       "  <tbody>\n",
       "    <tr>\n",
       "      <th>0</th>\n",
       "      <td>2015</td>\n",
       "      <td>Zack Greinke</td>\n",
       "      <td>Dodgers</td>\n",
       "      <td>31</td>\n",
       "      <td>8.08</td>\n",
       "      <td>1.62</td>\n",
       "      <td>5.00</td>\n",
       "      <td>5.98</td>\n",
       "      <td>0.57</td>\n",
       "      <td>0.84</td>\n",
       "      <td>...</td>\n",
       "      <td>64.1 %</td>\n",
       "      <td>23.7 %</td>\n",
       "      <td>4.7 %</td>\n",
       "      <td>21.7 %</td>\n",
       "      <td>51.5 %</td>\n",
       "      <td>26.8 %</td>\n",
       "      <td>1.66</td>\n",
       "      <td>3.22</td>\n",
       "      <td>3.27</td>\n",
       "      <td>1943</td>\n",
       "    </tr>\n",
       "    <tr>\n",
       "      <th>1</th>\n",
       "      <td>2015</td>\n",
       "      <td>Jake Arrieta</td>\n",
       "      <td>Cubs</td>\n",
       "      <td>29</td>\n",
       "      <td>9.28</td>\n",
       "      <td>1.89</td>\n",
       "      <td>4.92</td>\n",
       "      <td>5.90</td>\n",
       "      <td>0.39</td>\n",
       "      <td>0.86</td>\n",
       "      <td>...</td>\n",
       "      <td>60.2 %</td>\n",
       "      <td>27.1 %</td>\n",
       "      <td>5.5 %</td>\n",
       "      <td>22.8 %</td>\n",
       "      <td>55.2 %</td>\n",
       "      <td>22.1 %</td>\n",
       "      <td>1.77</td>\n",
       "      <td>2.61</td>\n",
       "      <td>2.75</td>\n",
       "      <td>4153</td>\n",
       "    </tr>\n",
       "    <tr>\n",
       "      <th>2</th>\n",
       "      <td>2014</td>\n",
       "      <td>Clayton Kershaw</td>\n",
       "      <td>Dodgers</td>\n",
       "      <td>26</td>\n",
       "      <td>10.85</td>\n",
       "      <td>1.41</td>\n",
       "      <td>7.71</td>\n",
       "      <td>6.31</td>\n",
       "      <td>0.41</td>\n",
       "      <td>0.86</td>\n",
       "      <td>...</td>\n",
       "      <td>68.8 %</td>\n",
       "      <td>31.9 %</td>\n",
       "      <td>4.1 %</td>\n",
       "      <td>24.5 %</td>\n",
       "      <td>51.2 %</td>\n",
       "      <td>24.3 %</td>\n",
       "      <td>1.77</td>\n",
       "      <td>2.08</td>\n",
       "      <td>2.09</td>\n",
       "      <td>2036</td>\n",
       "    </tr>\n",
       "    <tr>\n",
       "      <th>3</th>\n",
       "      <td>2013</td>\n",
       "      <td>Clayton Kershaw</td>\n",
       "      <td>Dodgers</td>\n",
       "      <td>25</td>\n",
       "      <td>8.85</td>\n",
       "      <td>1.98</td>\n",
       "      <td>4.46</td>\n",
       "      <td>6.25</td>\n",
       "      <td>0.42</td>\n",
       "      <td>0.92</td>\n",
       "      <td>...</td>\n",
       "      <td>65.1 %</td>\n",
       "      <td>25.6 %</td>\n",
       "      <td>5.7 %</td>\n",
       "      <td>14.4 %</td>\n",
       "      <td>56.7 %</td>\n",
       "      <td>28.9 %</td>\n",
       "      <td>1.83</td>\n",
       "      <td>2.88</td>\n",
       "      <td>2.99</td>\n",
       "      <td>2036</td>\n",
       "    </tr>\n",
       "    <tr>\n",
       "      <th>4</th>\n",
       "      <td>2005</td>\n",
       "      <td>Roger Clemens</td>\n",
       "      <td>Astros</td>\n",
       "      <td>42</td>\n",
       "      <td>7.88</td>\n",
       "      <td>2.64</td>\n",
       "      <td>2.98</td>\n",
       "      <td>6.43</td>\n",
       "      <td>0.47</td>\n",
       "      <td>1.01</td>\n",
       "      <td>...</td>\n",
       "      <td>60.4 %</td>\n",
       "      <td>22.1 %</td>\n",
       "      <td>7.4 %</td>\n",
       "      <td>16.3 %</td>\n",
       "      <td>60.9 %</td>\n",
       "      <td>22.8 %</td>\n",
       "      <td>1.87</td>\n",
       "      <td>3.31</td>\n",
       "      <td>3.47</td>\n",
       "      <td>815</td>\n",
       "    </tr>\n",
       "  </tbody>\n",
       "</table>\n",
       "<p>5 rows × 35 columns</p>\n",
       "</div>"
      ],
      "text/plain": [
       "   Season             Name     Team  Age    K/9  BB/9  K/BB   H/9  HR/9  WHIP  \\\n",
       "0    2015     Zack Greinke  Dodgers   31   8.08  1.62  5.00  5.98  0.57  0.84   \n",
       "1    2015     Jake Arrieta     Cubs   29   9.28  1.89  4.92  5.90  0.39  0.86   \n",
       "2    2014  Clayton Kershaw  Dodgers   26  10.85  1.41  7.71  6.31  0.41  0.86   \n",
       "3    2013  Clayton Kershaw  Dodgers   25   8.85  1.98  4.46  6.25  0.42  0.92   \n",
       "4    2005    Roger Clemens   Astros   42   7.88  2.64  2.98  6.43  0.47  1.01   \n",
       "\n",
       "   ...  F-Strike%      K%    BB%   Soft%    Med%   Hard%   ERA  xFIP SIERA  \\\n",
       "0  ...     64.1 %  23.7 %  4.7 %  21.7 %  51.5 %  26.8 %  1.66  3.22  3.27   \n",
       "1  ...     60.2 %  27.1 %  5.5 %  22.8 %  55.2 %  22.1 %  1.77  2.61  2.75   \n",
       "2  ...     68.8 %  31.9 %  4.1 %  24.5 %  51.2 %  24.3 %  1.77  2.08  2.09   \n",
       "3  ...     65.1 %  25.6 %  5.7 %  14.4 %  56.7 %  28.9 %  1.83  2.88  2.99   \n",
       "4  ...     60.4 %  22.1 %  7.4 %  16.3 %  60.9 %  22.8 %  1.87  3.31  3.47   \n",
       "\n",
       "  playerid  \n",
       "0     1943  \n",
       "1     4153  \n",
       "2     2036  \n",
       "3     2036  \n",
       "4      815  \n",
       "\n",
       "[5 rows x 35 columns]"
      ]
     },
     "execution_count": 349,
     "metadata": {},
     "output_type": "execute_result"
    }
   ],
   "source": [
    "stats.head()"
   ]
  },
  {
   "cell_type": "markdown",
   "metadata": {},
   "source": [
    "One sees that there is a column for each statistic and a row for each pitcher for each season"
   ]
  },
  {
   "cell_type": "code",
   "execution_count": 350,
   "metadata": {},
   "outputs": [
    {
     "data": {
      "text/plain": [
       "Index(['Season', 'Name', 'Team', 'Age', 'K/9', 'BB/9', 'K/BB', 'H/9', 'HR/9',\n",
       "       'WHIP', 'BABIP', 'GB/FB', 'LD%', 'GB%', 'FB%', 'IFFB%', 'HR/FB',\n",
       "       'O-Swing%', 'Z-Swing%', 'Swing%', 'O-Contact%', 'Z-Contact%',\n",
       "       'Contact%', 'Zone%', 'SwStr%', 'F-Strike%', 'K%', 'BB%', 'Soft%',\n",
       "       'Med%', 'Hard%', 'ERA', 'xFIP', 'SIERA', 'playerid'],\n",
       "      dtype='object')"
      ]
     },
     "execution_count": 350,
     "metadata": {},
     "output_type": "execute_result"
    }
   ],
   "source": [
    "stats.columns"
   ]
  },
  {
   "cell_type": "markdown",
   "metadata": {},
   "source": [
    "The included stats are listed above, I have only included rate stats because counting statistics will skew predicitions in favor of pitchers who have pitched more innings in a given season."
   ]
  },
  {
   "cell_type": "markdown",
   "metadata": {},
   "source": [
    "Below I reformat the data values in each column so that they are all floats and are suitable for analysis"
   ]
  },
  {
   "cell_type": "code",
   "execution_count": 351,
   "metadata": {},
   "outputs": [],
   "source": [
    "for col in stats.columns:\n",
    "    if type(stats[col][1])==str:\n",
    "        stats[col]=stats[col].str.replace('%','',regex=False)\n",
    " "
   ]
  },
  {
   "cell_type": "code",
   "execution_count": 352,
   "metadata": {},
   "outputs": [],
   "source": [
    "numbers=['Age', 'K/9', 'BB/9', 'K/BB', 'H/9', 'HR/9',\n",
    "       'WHIP', 'BABIP', 'GB/FB', 'LD%', 'GB%', 'FB%', 'IFFB%', 'HR/FB',\n",
    "       'O-Swing%', 'Z-Swing%', 'Swing%', 'O-Contact%', 'Z-Contact%',\n",
    "       'Contact%', 'Zone%', 'SwStr%', 'F-Strike%', 'K%', 'BB%', 'Soft%',\n",
    "       'Med%', 'Hard%', 'ERA', 'playerid','xFIP','SIERA']\n",
    "for col in numbers:\n",
    "    stats[col]=stats[col].astype(float)"
   ]
  },
  {
   "cell_type": "markdown",
   "metadata": {},
   "source": [
    "In the next three cells I create a new dataframe from the original that includes a column for the given pitchers ERA the following season, and rename the columns accordingly"
   ]
  },
  {
   "cell_type": "code",
   "execution_count": 353,
   "metadata": {},
   "outputs": [],
   "source": [
    "predseasons=['stats'+str(i)+str(i+1) for i in range(2002,2017)]\n",
    "i=2002\n",
    "for season in predseasons:\n",
    "  \n",
    "    globals()[season] = pd.merge(stats[stats['Season']==i],stats[stats['Season']==(i+1)][['Name','ERA']],on=\"Name\")\n",
    "    i+=1\n",
    "   "
   ]
  },
  {
   "cell_type": "code",
   "execution_count": 354,
   "metadata": {},
   "outputs": [],
   "source": [
    "statsrel=pd.concat([globals()[season] for season in predseasons])"
   ]
  },
  {
   "cell_type": "code",
   "execution_count": 355,
   "metadata": {},
   "outputs": [],
   "source": [
    "statsrel=statsrel.rename(columns={'ERA_x':'ERA_current_year','ERA_y':'ERA_next_year'})"
   ]
  },
  {
   "cell_type": "code",
   "execution_count": 356,
   "metadata": {
    "scrolled": false
   },
   "outputs": [
    {
     "data": {
      "text/html": [
       "<div>\n",
       "<style scoped>\n",
       "    .dataframe tbody tr th:only-of-type {\n",
       "        vertical-align: middle;\n",
       "    }\n",
       "\n",
       "    .dataframe tbody tr th {\n",
       "        vertical-align: top;\n",
       "    }\n",
       "\n",
       "    .dataframe thead th {\n",
       "        text-align: right;\n",
       "    }\n",
       "</style>\n",
       "<table border=\"1\" class=\"dataframe\">\n",
       "  <thead>\n",
       "    <tr style=\"text-align: right;\">\n",
       "      <th></th>\n",
       "      <th>Season</th>\n",
       "      <th>Name</th>\n",
       "      <th>Team</th>\n",
       "      <th>Age</th>\n",
       "      <th>K/9</th>\n",
       "      <th>BB/9</th>\n",
       "      <th>K/BB</th>\n",
       "      <th>H/9</th>\n",
       "      <th>HR/9</th>\n",
       "      <th>WHIP</th>\n",
       "      <th>...</th>\n",
       "      <th>K%</th>\n",
       "      <th>BB%</th>\n",
       "      <th>Soft%</th>\n",
       "      <th>Med%</th>\n",
       "      <th>Hard%</th>\n",
       "      <th>ERA_current_year</th>\n",
       "      <th>xFIP</th>\n",
       "      <th>SIERA</th>\n",
       "      <th>playerid</th>\n",
       "      <th>ERA_next_year</th>\n",
       "    </tr>\n",
       "  </thead>\n",
       "  <tbody>\n",
       "    <tr>\n",
       "      <th>0</th>\n",
       "      <td>2002</td>\n",
       "      <td>Pedro Martinez</td>\n",
       "      <td>Red Sox</td>\n",
       "      <td>30.0</td>\n",
       "      <td>10.79</td>\n",
       "      <td>1.81</td>\n",
       "      <td>5.98</td>\n",
       "      <td>6.50</td>\n",
       "      <td>0.59</td>\n",
       "      <td>0.92</td>\n",
       "      <td>...</td>\n",
       "      <td>30.4</td>\n",
       "      <td>5.1</td>\n",
       "      <td>13.8</td>\n",
       "      <td>67.6</td>\n",
       "      <td>18.7</td>\n",
       "      <td>2.26</td>\n",
       "      <td>2.61</td>\n",
       "      <td>2.43</td>\n",
       "      <td>200.0</td>\n",
       "      <td>2.22</td>\n",
       "    </tr>\n",
       "    <tr>\n",
       "      <th>1</th>\n",
       "      <td>2002</td>\n",
       "      <td>Derek Lowe</td>\n",
       "      <td>Red Sox</td>\n",
       "      <td>29.0</td>\n",
       "      <td>5.20</td>\n",
       "      <td>1.97</td>\n",
       "      <td>2.65</td>\n",
       "      <td>6.80</td>\n",
       "      <td>0.49</td>\n",
       "      <td>0.97</td>\n",
       "      <td>...</td>\n",
       "      <td>14.9</td>\n",
       "      <td>5.6</td>\n",
       "      <td>13.3</td>\n",
       "      <td>71.2</td>\n",
       "      <td>15.4</td>\n",
       "      <td>2.58</td>\n",
       "      <td>3.42</td>\n",
       "      <td>3.18</td>\n",
       "      <td>199.0</td>\n",
       "      <td>4.47</td>\n",
       "    </tr>\n",
       "    <tr>\n",
       "      <th>2</th>\n",
       "      <td>2002</td>\n",
       "      <td>Greg Maddux</td>\n",
       "      <td>Braves</td>\n",
       "      <td>36.0</td>\n",
       "      <td>5.33</td>\n",
       "      <td>2.03</td>\n",
       "      <td>2.62</td>\n",
       "      <td>8.76</td>\n",
       "      <td>0.63</td>\n",
       "      <td>1.20</td>\n",
       "      <td>...</td>\n",
       "      <td>14.4</td>\n",
       "      <td>5.5</td>\n",
       "      <td>15.6</td>\n",
       "      <td>66.8</td>\n",
       "      <td>17.6</td>\n",
       "      <td>2.62</td>\n",
       "      <td>3.61</td>\n",
       "      <td>3.75</td>\n",
       "      <td>104.0</td>\n",
       "      <td>3.96</td>\n",
       "    </tr>\n",
       "    <tr>\n",
       "      <th>3</th>\n",
       "      <td>2002</td>\n",
       "      <td>Barry Zito</td>\n",
       "      <td>Athletics</td>\n",
       "      <td>24.0</td>\n",
       "      <td>7.14</td>\n",
       "      <td>3.06</td>\n",
       "      <td>2.33</td>\n",
       "      <td>7.14</td>\n",
       "      <td>0.94</td>\n",
       "      <td>1.13</td>\n",
       "      <td>...</td>\n",
       "      <td>19.4</td>\n",
       "      <td>8.3</td>\n",
       "      <td>18.7</td>\n",
       "      <td>61.4</td>\n",
       "      <td>19.9</td>\n",
       "      <td>2.75</td>\n",
       "      <td>4.28</td>\n",
       "      <td>4.13</td>\n",
       "      <td>944.0</td>\n",
       "      <td>3.30</td>\n",
       "    </tr>\n",
       "    <tr>\n",
       "      <th>4</th>\n",
       "      <td>2002</td>\n",
       "      <td>Bartolo Colon</td>\n",
       "      <td>- - -</td>\n",
       "      <td>29.0</td>\n",
       "      <td>5.75</td>\n",
       "      <td>2.70</td>\n",
       "      <td>2.13</td>\n",
       "      <td>8.45</td>\n",
       "      <td>0.77</td>\n",
       "      <td>1.24</td>\n",
       "      <td>...</td>\n",
       "      <td>15.4</td>\n",
       "      <td>7.3</td>\n",
       "      <td>17.4</td>\n",
       "      <td>61.1</td>\n",
       "      <td>21.5</td>\n",
       "      <td>2.93</td>\n",
       "      <td>4.06</td>\n",
       "      <td>4.26</td>\n",
       "      <td>375.0</td>\n",
       "      <td>3.87</td>\n",
       "    </tr>\n",
       "  </tbody>\n",
       "</table>\n",
       "<p>5 rows × 36 columns</p>\n",
       "</div>"
      ],
      "text/plain": [
       "   Season            Name       Team   Age    K/9  BB/9  K/BB   H/9  HR/9  \\\n",
       "0    2002  Pedro Martinez    Red Sox  30.0  10.79  1.81  5.98  6.50  0.59   \n",
       "1    2002      Derek Lowe    Red Sox  29.0   5.20  1.97  2.65  6.80  0.49   \n",
       "2    2002     Greg Maddux     Braves  36.0   5.33  2.03  2.62  8.76  0.63   \n",
       "3    2002      Barry Zito  Athletics  24.0   7.14  3.06  2.33  7.14  0.94   \n",
       "4    2002   Bartolo Colon      - - -  29.0   5.75  2.70  2.13  8.45  0.77   \n",
       "\n",
       "   WHIP  ...    K%  BB%  Soft%  Med%  Hard%  ERA_current_year  xFIP  SIERA  \\\n",
       "0  0.92  ...  30.4  5.1   13.8  67.6   18.7              2.26  2.61   2.43   \n",
       "1  0.97  ...  14.9  5.6   13.3  71.2   15.4              2.58  3.42   3.18   \n",
       "2  1.20  ...  14.4  5.5   15.6  66.8   17.6              2.62  3.61   3.75   \n",
       "3  1.13  ...  19.4  8.3   18.7  61.4   19.9              2.75  4.28   4.13   \n",
       "4  1.24  ...  15.4  7.3   17.4  61.1   21.5              2.93  4.06   4.26   \n",
       "\n",
       "   playerid  ERA_next_year  \n",
       "0     200.0           2.22  \n",
       "1     199.0           4.47  \n",
       "2     104.0           3.96  \n",
       "3     944.0           3.30  \n",
       "4     375.0           3.87  \n",
       "\n",
       "[5 rows x 36 columns]"
      ]
     },
     "execution_count": 356,
     "metadata": {},
     "output_type": "execute_result"
    }
   ],
   "source": [
    "statsrel.head()"
   ]
  },
  {
   "cell_type": "code",
   "execution_count": null,
   "metadata": {},
   "outputs": [],
   "source": []
  },
  {
   "cell_type": "markdown",
   "metadata": {},
   "source": [
    "\"features\" is a list of statistics that we will use to try to predict a pitchers ERA.\n",
    "\n",
    "\"featureswithestimators\" also includes the ERA estimators xFIP (eXpected Fielding Independent Pitching) and SIERA (Skill Interactive ERA), these stats use strikeout, walk and fly ball rates to say what a pitchers ERA 'should' be by removing factors such as team defense that are out of the pitchers control. For more information on these stats see https://www.fangraphs.com/library/pitching/. "
   ]
  },
  {
   "cell_type": "code",
   "execution_count": 357,
   "metadata": {},
   "outputs": [],
   "source": [
    "features=['Age', 'K/9', 'BB/9', 'K/BB', 'H/9', 'HR/9',\n",
    "       'WHIP', 'BABIP', 'GB/FB', 'LD%', 'GB%', 'FB%', 'IFFB%', 'HR/FB',\n",
    "       'O-Swing%', 'Z-Swing%', 'Swing%', 'O-Contact%', 'Z-Contact%',\n",
    "       'Contact%', 'Zone%', 'SwStr%', 'F-Strike%', 'K%', 'BB%', 'Soft%',\n",
    "       'Med%', 'Hard%', 'ERA_current_year']\n"
   ]
  },
  {
   "cell_type": "code",
   "execution_count": 358,
   "metadata": {},
   "outputs": [],
   "source": [
    "featureswithestimators=['Age', 'K/9', 'BB/9', 'K/BB', 'H/9', 'HR/9',\n",
    "       'WHIP', 'BABIP', 'GB/FB', 'LD%', 'GB%', 'FB%', 'IFFB%', 'HR/FB',\n",
    "       'O-Swing%', 'Z-Swing%', 'Swing%', 'O-Contact%', 'Z-Contact%',\n",
    "       'Contact%', 'Zone%', 'SwStr%', 'F-Strike%', 'K%', 'BB%', 'Soft%',\n",
    "       'Med%', 'Hard%', 'ERA_current_year','xFIP','SIERA']"
   ]
  },
  {
   "cell_type": "markdown",
   "metadata": {},
   "source": [
    "First lets explore which stats are most correlated with a pitcher's ERA during the same year"
   ]
  },
  {
   "cell_type": "code",
   "execution_count": 359,
   "metadata": {
    "scrolled": true
   },
   "outputs": [
    {
     "data": {
      "text/html": [
       "<div>\n",
       "<style scoped>\n",
       "    .dataframe tbody tr th:only-of-type {\n",
       "        vertical-align: middle;\n",
       "    }\n",
       "\n",
       "    .dataframe tbody tr th {\n",
       "        vertical-align: top;\n",
       "    }\n",
       "\n",
       "    .dataframe thead th {\n",
       "        text-align: right;\n",
       "    }\n",
       "</style>\n",
       "<table border=\"1\" class=\"dataframe\">\n",
       "  <thead>\n",
       "    <tr style=\"text-align: right;\">\n",
       "      <th></th>\n",
       "      <th>0</th>\n",
       "    </tr>\n",
       "  </thead>\n",
       "  <tbody>\n",
       "    <tr>\n",
       "      <th>ERA_current_year</th>\n",
       "      <td>1.000000</td>\n",
       "    </tr>\n",
       "    <tr>\n",
       "      <th>WHIP</th>\n",
       "      <td>0.815086</td>\n",
       "    </tr>\n",
       "    <tr>\n",
       "      <th>H/9</th>\n",
       "      <td>0.759634</td>\n",
       "    </tr>\n",
       "    <tr>\n",
       "      <th>SIERA</th>\n",
       "      <td>0.638081</td>\n",
       "    </tr>\n",
       "    <tr>\n",
       "      <th>xFIP</th>\n",
       "      <td>0.634663</td>\n",
       "    </tr>\n",
       "    <tr>\n",
       "      <th>HR/9</th>\n",
       "      <td>0.590251</td>\n",
       "    </tr>\n",
       "    <tr>\n",
       "      <th>K%</th>\n",
       "      <td>0.534908</td>\n",
       "    </tr>\n",
       "    <tr>\n",
       "      <th>K/BB</th>\n",
       "      <td>0.489126</td>\n",
       "    </tr>\n",
       "    <tr>\n",
       "      <th>K/9</th>\n",
       "      <td>0.452299</td>\n",
       "    </tr>\n",
       "    <tr>\n",
       "      <th>SwStr%</th>\n",
       "      <td>0.433424</td>\n",
       "    </tr>\n",
       "    <tr>\n",
       "      <th>BABIP</th>\n",
       "      <td>0.432780</td>\n",
       "    </tr>\n",
       "    <tr>\n",
       "      <th>HR/FB</th>\n",
       "      <td>0.423012</td>\n",
       "    </tr>\n",
       "    <tr>\n",
       "      <th>Contact%</th>\n",
       "      <td>0.411598</td>\n",
       "    </tr>\n",
       "    <tr>\n",
       "      <th>O-Swing%</th>\n",
       "      <td>0.353715</td>\n",
       "    </tr>\n",
       "    <tr>\n",
       "      <th>Z-Contact%</th>\n",
       "      <td>0.338963</td>\n",
       "    </tr>\n",
       "    <tr>\n",
       "      <th>Soft%</th>\n",
       "      <td>0.304414</td>\n",
       "    </tr>\n",
       "    <tr>\n",
       "      <th>BB/9</th>\n",
       "      <td>0.299132</td>\n",
       "    </tr>\n",
       "    <tr>\n",
       "      <th>F-Strike%</th>\n",
       "      <td>0.248818</td>\n",
       "    </tr>\n",
       "    <tr>\n",
       "      <th>Swing%</th>\n",
       "      <td>0.233694</td>\n",
       "    </tr>\n",
       "    <tr>\n",
       "      <th>Hard%</th>\n",
       "      <td>0.230031</td>\n",
       "    </tr>\n",
       "    <tr>\n",
       "      <th>BB%</th>\n",
       "      <td>0.218658</td>\n",
       "    </tr>\n",
       "    <tr>\n",
       "      <th>LD%</th>\n",
       "      <td>0.144044</td>\n",
       "    </tr>\n",
       "    <tr>\n",
       "      <th>O-Contact%</th>\n",
       "      <td>0.125753</td>\n",
       "    </tr>\n",
       "    <tr>\n",
       "      <th>Zone%</th>\n",
       "      <td>0.114846</td>\n",
       "    </tr>\n",
       "    <tr>\n",
       "      <th>GB%</th>\n",
       "      <td>0.107033</td>\n",
       "    </tr>\n",
       "    <tr>\n",
       "      <th>GB/FB</th>\n",
       "      <td>0.090136</td>\n",
       "    </tr>\n",
       "    <tr>\n",
       "      <th>IFFB%</th>\n",
       "      <td>0.080803</td>\n",
       "    </tr>\n",
       "    <tr>\n",
       "      <th>Z-Swing%</th>\n",
       "      <td>0.071524</td>\n",
       "    </tr>\n",
       "    <tr>\n",
       "      <th>Age</th>\n",
       "      <td>0.064609</td>\n",
       "    </tr>\n",
       "    <tr>\n",
       "      <th>FB%</th>\n",
       "      <td>0.059323</td>\n",
       "    </tr>\n",
       "    <tr>\n",
       "      <th>Med%</th>\n",
       "      <td>0.039181</td>\n",
       "    </tr>\n",
       "  </tbody>\n",
       "</table>\n",
       "</div>"
      ],
      "text/plain": [
       "                         0\n",
       "ERA_current_year  1.000000\n",
       "WHIP              0.815086\n",
       "H/9               0.759634\n",
       "SIERA             0.638081\n",
       "xFIP              0.634663\n",
       "HR/9              0.590251\n",
       "K%                0.534908\n",
       "K/BB              0.489126\n",
       "K/9               0.452299\n",
       "SwStr%            0.433424\n",
       "BABIP             0.432780\n",
       "HR/FB             0.423012\n",
       "Contact%          0.411598\n",
       "O-Swing%          0.353715\n",
       "Z-Contact%        0.338963\n",
       "Soft%             0.304414\n",
       "BB/9              0.299132\n",
       "F-Strike%         0.248818\n",
       "Swing%            0.233694\n",
       "Hard%             0.230031\n",
       "BB%               0.218658\n",
       "LD%               0.144044\n",
       "O-Contact%        0.125753\n",
       "Zone%             0.114846\n",
       "GB%               0.107033\n",
       "GB/FB             0.090136\n",
       "IFFB%             0.080803\n",
       "Z-Swing%          0.071524\n",
       "Age               0.064609\n",
       "FB%               0.059323\n",
       "Med%              0.039181"
      ]
     },
     "execution_count": 359,
     "metadata": {},
     "output_type": "execute_result"
    }
   ],
   "source": [
    "corrdict1={col:np.abs(statsrel[col].corr(statsrel['ERA_current_year'])) for col in featureswithestimators}\n",
    "\n",
    "\n",
    "\n",
    "    \n",
    "Corr=pd.DataFrame.from_dict(corrdict1, orient='index')\n",
    "Corr.sort_values(by=0,ascending=False)"
   ]
  },
  {
   "cell_type": "markdown",
   "metadata": {},
   "source": [
    "We see that WHIP and hits per nine innings have strong correlations to ERA, placing just above xFIP and SIERA as the most strongly correlated variables. Now lets take a look at how these stats are correlated to a pitcher's ERA the following season."
   ]
  },
  {
   "cell_type": "code",
   "execution_count": 360,
   "metadata": {
    "scrolled": true
   },
   "outputs": [
    {
     "data": {
      "text/html": [
       "<div>\n",
       "<style scoped>\n",
       "    .dataframe tbody tr th:only-of-type {\n",
       "        vertical-align: middle;\n",
       "    }\n",
       "\n",
       "    .dataframe tbody tr th {\n",
       "        vertical-align: top;\n",
       "    }\n",
       "\n",
       "    .dataframe thead th {\n",
       "        text-align: right;\n",
       "    }\n",
       "</style>\n",
       "<table border=\"1\" class=\"dataframe\">\n",
       "  <thead>\n",
       "    <tr style=\"text-align: right;\">\n",
       "      <th></th>\n",
       "      <th>0</th>\n",
       "    </tr>\n",
       "  </thead>\n",
       "  <tbody>\n",
       "    <tr>\n",
       "      <th>SIERA</th>\n",
       "      <td>0.453758</td>\n",
       "    </tr>\n",
       "    <tr>\n",
       "      <th>xFIP</th>\n",
       "      <td>0.445884</td>\n",
       "    </tr>\n",
       "    <tr>\n",
       "      <th>K%</th>\n",
       "      <td>0.424969</td>\n",
       "    </tr>\n",
       "    <tr>\n",
       "      <th>K/9</th>\n",
       "      <td>0.406644</td>\n",
       "    </tr>\n",
       "    <tr>\n",
       "      <th>ERA_current_year</th>\n",
       "      <td>0.339578</td>\n",
       "    </tr>\n",
       "    <tr>\n",
       "      <th>K/BB</th>\n",
       "      <td>0.335974</td>\n",
       "    </tr>\n",
       "    <tr>\n",
       "      <th>SwStr%</th>\n",
       "      <td>0.319018</td>\n",
       "    </tr>\n",
       "    <tr>\n",
       "      <th>WHIP</th>\n",
       "      <td>0.316859</td>\n",
       "    </tr>\n",
       "    <tr>\n",
       "      <th>Contact%</th>\n",
       "      <td>0.309912</td>\n",
       "    </tr>\n",
       "    <tr>\n",
       "      <th>H/9</th>\n",
       "      <td>0.302348</td>\n",
       "    </tr>\n",
       "    <tr>\n",
       "      <th>Z-Contact%</th>\n",
       "      <td>0.290058</td>\n",
       "    </tr>\n",
       "    <tr>\n",
       "      <th>HR/9</th>\n",
       "      <td>0.278060</td>\n",
       "    </tr>\n",
       "    <tr>\n",
       "      <th>O-Swing%</th>\n",
       "      <td>0.251271</td>\n",
       "    </tr>\n",
       "    <tr>\n",
       "      <th>Soft%</th>\n",
       "      <td>0.170777</td>\n",
       "    </tr>\n",
       "    <tr>\n",
       "      <th>F-Strike%</th>\n",
       "      <td>0.160567</td>\n",
       "    </tr>\n",
       "    <tr>\n",
       "      <th>HR/FB</th>\n",
       "      <td>0.156215</td>\n",
       "    </tr>\n",
       "    <tr>\n",
       "      <th>Swing%</th>\n",
       "      <td>0.145038</td>\n",
       "    </tr>\n",
       "    <tr>\n",
       "      <th>Age</th>\n",
       "      <td>0.117504</td>\n",
       "    </tr>\n",
       "    <tr>\n",
       "      <th>Med%</th>\n",
       "      <td>0.111272</td>\n",
       "    </tr>\n",
       "    <tr>\n",
       "      <th>BB/9</th>\n",
       "      <td>0.106611</td>\n",
       "    </tr>\n",
       "    <tr>\n",
       "      <th>Zone%</th>\n",
       "      <td>0.103316</td>\n",
       "    </tr>\n",
       "    <tr>\n",
       "      <th>BB%</th>\n",
       "      <td>0.079882</td>\n",
       "    </tr>\n",
       "    <tr>\n",
       "      <th>GB/FB</th>\n",
       "      <td>0.056518</td>\n",
       "    </tr>\n",
       "    <tr>\n",
       "      <th>GB%</th>\n",
       "      <td>0.054717</td>\n",
       "    </tr>\n",
       "    <tr>\n",
       "      <th>O-Contact%</th>\n",
       "      <td>0.054508</td>\n",
       "    </tr>\n",
       "    <tr>\n",
       "      <th>Z-Swing%</th>\n",
       "      <td>0.049796</td>\n",
       "    </tr>\n",
       "    <tr>\n",
       "      <th>FB%</th>\n",
       "      <td>0.042389</td>\n",
       "    </tr>\n",
       "    <tr>\n",
       "      <th>LD%</th>\n",
       "      <td>0.038722</td>\n",
       "    </tr>\n",
       "    <tr>\n",
       "      <th>IFFB%</th>\n",
       "      <td>0.016310</td>\n",
       "    </tr>\n",
       "    <tr>\n",
       "      <th>Hard%</th>\n",
       "      <td>0.015875</td>\n",
       "    </tr>\n",
       "    <tr>\n",
       "      <th>BABIP</th>\n",
       "      <td>0.014046</td>\n",
       "    </tr>\n",
       "  </tbody>\n",
       "</table>\n",
       "</div>"
      ],
      "text/plain": [
       "                         0\n",
       "SIERA             0.453758\n",
       "xFIP              0.445884\n",
       "K%                0.424969\n",
       "K/9               0.406644\n",
       "ERA_current_year  0.339578\n",
       "K/BB              0.335974\n",
       "SwStr%            0.319018\n",
       "WHIP              0.316859\n",
       "Contact%          0.309912\n",
       "H/9               0.302348\n",
       "Z-Contact%        0.290058\n",
       "HR/9              0.278060\n",
       "O-Swing%          0.251271\n",
       "Soft%             0.170777\n",
       "F-Strike%         0.160567\n",
       "HR/FB             0.156215\n",
       "Swing%            0.145038\n",
       "Age               0.117504\n",
       "Med%              0.111272\n",
       "BB/9              0.106611\n",
       "Zone%             0.103316\n",
       "BB%               0.079882\n",
       "GB/FB             0.056518\n",
       "GB%               0.054717\n",
       "O-Contact%        0.054508\n",
       "Z-Swing%          0.049796\n",
       "FB%               0.042389\n",
       "LD%               0.038722\n",
       "IFFB%             0.016310\n",
       "Hard%             0.015875\n",
       "BABIP             0.014046"
      ]
     },
     "execution_count": 360,
     "metadata": {},
     "output_type": "execute_result"
    }
   ],
   "source": [
    "corrdict2={col:np.abs(statsrel[col].corr(statsrel['ERA_next_year'])) for col in featureswithestimators}\n",
    "\n",
    "\n",
    "\n",
    "    \n",
    "Corr=pd.DataFrame.from_dict(corrdict2, orient='index')\n",
    "Corr.sort_values(by=0,ascending=False)"
   ]
  },
  {
   "cell_type": "markdown",
   "metadata": {},
   "source": [
    "   Here we see a very different picture, SIERA and xFIP have moved to the front of the pack, justifying their use as truer measures of a pitchers talent than ERA alone. We see that WHIP, and H/9 are now only the 8th and 10th most correlated stats respectively. \n",
    "    \n",
    "   Besides xFIP and SIERA, it seems that the best raw stats to use to predict a pitchers ERA are the ones involving strikeouts, (K%, K/9,K/BB, SwStr%). Its no surprise then that strikeouts are a major component of both the SIERA and xFIP estimators.\n",
    "    \n",
    "   Also of note is that a pitchers walk rate, (BB%) has a very low correlation to his ERA the next year. It seems that walks do not hurt a pitcher very much as long as he maintains high strikeout totals.\n",
    "     "
   ]
  },
  {
   "cell_type": "markdown",
   "metadata": {},
   "source": [
    "Finally, we try to use a combination of the raw features in a linear regressor to predict a pitchers ERA the following year.\n",
    "\n",
    "First we build our design matrix and define our feature scaler."
   ]
  },
  {
   "cell_type": "code",
   "execution_count": 422,
   "metadata": {},
   "outputs": [],
   "source": [
    "scaler=StandardScaler()"
   ]
  },
  {
   "cell_type": "code",
   "execution_count": 423,
   "metadata": {
    "scrolled": true
   },
   "outputs": [
    {
     "data": {
      "text/plain": [
       "(773, 29)"
      ]
     },
     "execution_count": 423,
     "metadata": {},
     "output_type": "execute_result"
    }
   ],
   "source": [
    "X = statsrel[features]\n",
    "X.shape"
   ]
  },
  {
   "cell_type": "code",
   "execution_count": 424,
   "metadata": {},
   "outputs": [
    {
     "data": {
      "text/plain": [
       "773"
      ]
     },
     "execution_count": 424,
     "metadata": {},
     "output_type": "execute_result"
    }
   ],
   "source": [
    "y= statsrel['ERA_next_year'].values\n",
    "len(y)"
   ]
  },
  {
   "cell_type": "markdown",
   "metadata": {},
   "source": [
    " Next we shuffle the order of the data so that the initial ordering does not bias the model."
   ]
  },
  {
   "cell_type": "code",
   "execution_count": 425,
   "metadata": {},
   "outputs": [],
   "source": [
    "from sklearn.utils import shuffle\n",
    "X,y=shuffle(X,y)"
   ]
  },
  {
   "cell_type": "markdown",
   "metadata": {},
   "source": [
    "Now we can use a linear regressor on the data to try and make predictions. We test our model using 5 fold cross validation, and evaluate it using the root mean squared error."
   ]
  },
  {
   "cell_type": "code",
   "execution_count": 426,
   "metadata": {},
   "outputs": [
    {
     "data": {
      "text/plain": [
       "0.5878540871270985"
      ]
     },
     "execution_count": 426,
     "metadata": {},
     "output_type": "execute_result"
    }
   ],
   "source": [
    "\n",
    "regressor = LinearRegression()\n",
    "pipeline=Pipeline([('scaler',scaler),('regressor',regressor)])\n",
    "MAE=cross_val_score(pipeline, X,y, cv=5,scoring='neg_mean_absolute_error').mean()\n",
    "-MAE\n"
   ]
  },
  {
   "cell_type": "markdown",
   "metadata": {},
   "source": [
    "We see that our model is off by an average of about .588 runs in predicting a pitcher's ERA. For comparison, lets look at our errors if we use the pitchers ERA from the previous year as our predicition."
   ]
  },
  {
   "cell_type": "code",
   "execution_count": 427,
   "metadata": {
    "scrolled": true
   },
   "outputs": [
    {
     "data": {
      "text/plain": [
       "0.7212031047865459"
      ]
     },
     "execution_count": 427,
     "metadata": {},
     "output_type": "execute_result"
    }
   ],
   "source": [
    "MAEERA = sklearn.metrics.mean_absolute_error(y_true = statsrel['ERA_next_year'], y_pred = statsrel['ERA_current_year'])\n",
    "MAEERA"
   ]
  },
  {
   "cell_type": "markdown",
   "metadata": {},
   "source": [
    "Our regressor fares significantly better, how about if we use SIERA and xFIP?\n"
   ]
  },
  {
   "cell_type": "code",
   "execution_count": 428,
   "metadata": {},
   "outputs": [
    {
     "data": {
      "text/plain": [
       "0.6183699870633894"
      ]
     },
     "execution_count": 428,
     "metadata": {},
     "output_type": "execute_result"
    }
   ],
   "source": [
    "MAESIERA = sklearn.metrics.mean_absolute_error(y_true = statsrel['ERA_next_year'], y_pred = statsrel['SIERA'])\n",
    "MAESIERA"
   ]
  },
  {
   "cell_type": "code",
   "execution_count": 429,
   "metadata": {},
   "outputs": [
    {
     "data": {
      "text/plain": [
       "0.6088874514877103"
      ]
     },
     "execution_count": 429,
     "metadata": {},
     "output_type": "execute_result"
    }
   ],
   "source": [
    "MAExFIP = sklearn.metrics.mean_absolute_error(y_true = statsrel['ERA_next_year'], y_pred = statsrel['xFIP'])\n",
    "MAExFIP"
   ]
  },
  {
   "cell_type": "markdown",
   "metadata": {},
   "source": [
    "Our regressor fares slightly better than xFIP and SIERA, which is no surprise given they both largely use stats from our list of features as inputs.\n",
    "\n",
    "\n"
   ]
  },
  {
   "cell_type": "markdown",
   "metadata": {},
   "source": [
    "We can improve our Regression model further by incorporating a regularization scheme, this will help keep the model from overfitiing the data. Lets first try a Ridge regressor, which helps keep the coefficients of our features small. "
   ]
  },
  {
   "cell_type": "code",
   "execution_count": 430,
   "metadata": {
    "scrolled": true
   },
   "outputs": [
    {
     "data": {
      "text/plain": [
       "0.5809968690552829"
      ]
     },
     "execution_count": 430,
     "metadata": {},
     "output_type": "execute_result"
    }
   ],
   "source": [
    "from sklearn.linear_model import Ridge\n",
    "\n",
    "regressor=Ridge(alpha=200)\n",
    "pipeline=Pipeline([('scaler',scaler),('regressor',regressor)])\n",
    "\n",
    "MAE=cross_val_score(pipeline, X,y, cv=5,scoring='neg_mean_absolute_error').mean()\n",
    "-MAE\n",
    "\n"
   ]
  },
  {
   "cell_type": "markdown",
   "metadata": {},
   "source": [
    "We see a slight improvement in our MAE from earlier (.581 vs .589). Next lets try a Lasso regressor, this will make the algorithm concentrate on a smaller number of features."
   ]
  },
  {
   "cell_type": "code",
   "execution_count": 433,
   "metadata": {
    "scrolled": true
   },
   "outputs": [
    {
     "data": {
      "text/plain": [
       "0.5155228569823673"
      ]
     },
     "execution_count": 433,
     "metadata": {},
     "output_type": "execute_result"
    }
   ],
   "source": [
    "from sklearn.model_selection import cross_val_score\n",
    "from sklearn.linear_model import Lasso\n",
    "\n",
    "regressor=Lasso(alpha=.01)\n",
    "pipeline=Pipeline([('scaler',scaler),('regressor',regressor)])\n",
    "\n",
    "MAE=cross_val_score(pipeline, X,y, cv=5,scoring='neg_mean_squared_error').mean()\n",
    "-MAE\n",
    "\n"
   ]
  },
  {
   "cell_type": "markdown",
   "metadata": {},
   "source": [
    "Finally we try XGboost, a gradient boosted regressor:"
   ]
  },
  {
   "cell_type": "code",
   "execution_count": 434,
   "metadata": {},
   "outputs": [
    {
     "data": {
      "text/plain": [
       "0.5170204185877213"
      ]
     },
     "execution_count": 434,
     "metadata": {},
     "output_type": "execute_result"
    }
   ],
   "source": [
    "\n",
    "regressor = XGBRegressor(n_estimators=90,learning_rate=0.1,booster='gblinear')\n",
    "pipeline=Pipeline([('scaler',scaler),('regressor',regressor)])\n",
    "MAE=cross_val_score(pipeline, X,y, cv=5,scoring='neg_mean_squared_error').mean()\n",
    "-MAE\n",
    "\n"
   ]
  },
  {
   "cell_type": "markdown",
   "metadata": {},
   "source": [
    "In summary we find that Lasso Regression gives us the best estimator\n",
    "\n"
   ]
  },
  {
   "cell_type": "markdown",
   "metadata": {},
   "source": [
    "One may wonder how I chose the specific parameters for my Regularization models, this is done using grid search. Grid search performs the regression task for a given parameter range and outputs the parameter that leads to the best performing model. An example of grid search for a Lasso Regression model is given below:"
   ]
  },
  {
   "cell_type": "code",
   "execution_count": 435,
   "metadata": {},
   "outputs": [
    {
     "name": "stdout",
     "output_type": "stream",
     "text": [
      "Fitting 5 folds for each of 4 candidates, totalling 20 fits\n"
     ]
    },
    {
     "name": "stderr",
     "output_type": "stream",
     "text": [
      "[Parallel(n_jobs=-1)]: Using backend LokyBackend with 8 concurrent workers.\n",
      "[Parallel(n_jobs=-1)]: Done   2 tasks      | elapsed:    0.0s\n",
      "[Parallel(n_jobs=-1)]: Done   5 out of  20 | elapsed:    0.0s remaining:    0.1s\n",
      "[Parallel(n_jobs=-1)]: Done  10 out of  20 | elapsed:    0.1s remaining:    0.1s\n",
      "[Parallel(n_jobs=-1)]: Done  15 out of  20 | elapsed:    0.1s remaining:    0.0s\n",
      "[Parallel(n_jobs=-1)]: Done  20 out of  20 | elapsed:    0.1s remaining:    0.0s\n",
      "[Parallel(n_jobs=-1)]: Done  20 out of  20 | elapsed:    0.1s finished\n"
     ]
    },
    {
     "data": {
      "text/plain": [
       "GridSearchCV(cv=5, error_score='raise-deprecating',\n",
       "       estimator=Pipeline(memory=None,\n",
       "     steps=[('scaler', StandardScaler(copy=True, with_mean=True, with_std=True)), ('regressor', Lasso(alpha=1.0, copy_X=True, fit_intercept=True, max_iter=1000,\n",
       "   normalize=False, positive=False, precompute=False, random_state=None,\n",
       "   selection='cyclic', tol=0.0001, warm_start=False))]),\n",
       "       fit_params=None, iid=False, n_jobs=-1,\n",
       "       param_grid={'regressor__alpha': [0.005, 0.01, 0.02, 0.05]},\n",
       "       pre_dispatch='2*n_jobs', refit=True, return_train_score='warn',\n",
       "       scoring='neg_mean_absolute_error', verbose=5)"
      ]
     },
     "execution_count": 435,
     "metadata": {},
     "output_type": "execute_result"
    }
   ],
   "source": [
    "\n",
    "regressor=Lasso()\n",
    "\n",
    "pipeline=Pipeline([('scaler',scaler),('regressor',regressor)])\n",
    "parameters = {'regressor__alpha': [0.005,0.01,0.02,0.05]}\n",
    "model = GridSearchCV(pipeline,parameters, cv=5, iid=False, n_jobs=-1,refit=True,verbose=5,scoring='neg_mean_absolute_error') \n",
    "model.fit(X,y)\n",
    "\n"
   ]
  },
  {
   "cell_type": "markdown",
   "metadata": {},
   "source": [
    "We print out the best parameter found using grid search and the associated croos-validation score"
   ]
  },
  {
   "cell_type": "code",
   "execution_count": 436,
   "metadata": {},
   "outputs": [
    {
     "name": "stdout",
     "output_type": "stream",
     "text": [
      "{'regressor__alpha': 0.02}\n",
      "0.5825506882814334\n"
     ]
    }
   ],
   "source": [
    "print(model.best_params_)\n",
    "print(-1*model.best_score_)"
   ]
  },
  {
   "cell_type": "markdown",
   "metadata": {},
   "source": [
    "Finally, lets look at the coefficients of our model to see which stats most strongly influence its prediction. (We use our best performing model, the Lasso regression)"
   ]
  },
  {
   "cell_type": "code",
   "execution_count": 437,
   "metadata": {},
   "outputs": [],
   "source": [
    "best_model=model.best_estimator_"
   ]
  },
  {
   "cell_type": "code",
   "execution_count": 438,
   "metadata": {
    "scrolled": false
   },
   "outputs": [
    {
     "data": {
      "text/plain": [
       "array([0.        , 0.        , 0.        , 0.        , 0.        ,\n",
       "       0.        , 0.        , 0.        , 0.        , 0.        ,\n",
       "       0.        , 0.        , 0.        , 0.        , 0.        ,\n",
       "       0.        , 0.        , 0.        , 0.00256554, 0.00644565,\n",
       "       0.00700854, 0.01604372, 0.03344088, 0.03958521, 0.04195595,\n",
       "       0.06125372, 0.09552277, 0.11899635, 0.20287045])"
      ]
     },
     "execution_count": 438,
     "metadata": {},
     "output_type": "execute_result"
    }
   ],
   "source": [
    "np.sort(np.abs(best_model.named_steps['regressor'].coef_))"
   ]
  },
  {
   "cell_type": "markdown",
   "metadata": {},
   "source": [
    "Our top five coefficents are .203, .119, .096, .061, and .042 . Lets see which stats these correspond to"
   ]
  },
  {
   "cell_type": "code",
   "execution_count": 439,
   "metadata": {
    "scrolled": false
   },
   "outputs": [
    {
     "name": "stdout",
     "output_type": "stream",
     "text": [
      "K%\n",
      "HR/9\n",
      "K/BB\n",
      "Z-Contact%\n",
      "O-Contact%\n"
     ]
    }
   ],
   "source": [
    "most=np.argsort(np.abs(best_model.named_steps['regressor'].coef_))[-5:]\n",
    "\n",
    "for i in reversed([statsrel[features].columns[i] for i in most]):\n",
    "    print(i)"
   ]
  },
  {
   "cell_type": "markdown",
   "metadata": {},
   "source": [
    "Given our correlation analysis above and the success of xFIP and SIERA it is unsurprising that K% and K/BB are among the strongest predictors of future performance. Interestingly, Z-Contact% (the rate at which a batter makes contact on pitches in the strike zone against a given pitcher) has a higher coefficient than we we would expect. "
   ]
  }
 ],
 "metadata": {
  "kernelspec": {
   "display_name": "Python 3",
   "language": "python",
   "name": "python3"
  },
  "language_info": {
   "codemirror_mode": {
    "name": "ipython",
    "version": 3
   },
   "file_extension": ".py",
   "mimetype": "text/x-python",
   "name": "python",
   "nbconvert_exporter": "python",
   "pygments_lexer": "ipython3",
   "version": "3.7.3"
  }
 },
 "nbformat": 4,
 "nbformat_minor": 2
}
