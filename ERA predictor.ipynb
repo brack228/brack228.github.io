{
 "cells": [
  {
   "cell_type": "markdown",
   "metadata": {},
   "source": [
    "# Year to year ERA prediction"
   ]
  },
  {
   "cell_type": "markdown",
   "metadata": {},
   "source": [
    "This notebook analyzes which statistics best predict a pitchers Earned Run Average, (ERA) from one year to the next"
   ]
  },
  {
   "cell_type": "code",
   "execution_count": 203,
   "metadata": {},
   "outputs": [],
   "source": [
    "import pandas as pd\n",
    "import numpy as np\n",
    "import matplotlib.pyplot as plt\n",
    "from sklearn.linear_model import LinearRegression\n",
    "from sklearn.model_selection import train_test_split\n",
    "from sklearn.metrics import mean_squared_error\n",
    "from sklearn.preprocessing import StandardScaler,MinMaxScaler\n",
    "from sklearn.model_selection import cross_val_score\n",
    "from sklearn.pipeline import Pipeline\n",
    "import sklearn\n",
    "import os\n",
    "os.environ['KMP_DUPLICATE_LIB_OK']='True'\n",
    "from sklearn.model_selection import GridSearchCV, RandomizedSearchCV\n",
    "\n",
    "from xgboost import XGBRegressor\n",
    "\n",
    "%matplotlib inline"
   ]
  },
  {
   "cell_type": "markdown",
   "metadata": {},
   "source": [
    "We first import select pitching data for qualified starting pitchers from www.fangraphs.com in the date range 2002-2017, for an explanation of each statistic see https://www.fangraphs.com/library/pitching/ ."
   ]
  },
  {
   "cell_type": "code",
   "execution_count": 243,
   "metadata": {},
   "outputs": [],
   "source": [
    "stats=pd.read_csv('/home/bradley/brack228.github.io/pitching_all.csv')"
   ]
  },
  {
   "cell_type": "code",
   "execution_count": 244,
   "metadata": {
    "scrolled": true
   },
   "outputs": [
    {
     "data": {
      "text/plain": [
       "(2547, 43)"
      ]
     },
     "execution_count": 244,
     "metadata": {},
     "output_type": "execute_result"
    }
   ],
   "source": [
    "stats.shape"
   ]
  },
  {
   "cell_type": "markdown",
   "metadata": {},
   "source": [
    "One sees that there is a column for each statistic and a row for each pitcher for each season"
   ]
  },
  {
   "cell_type": "code",
   "execution_count": 245,
   "metadata": {},
   "outputs": [
    {
     "data": {
      "text/plain": [
       "Index(['Season', 'Name', 'Team', 'Age', 'ERA', 'K/9', 'BB/9', 'K/BB', 'H/9',\n",
       "       'HR/9', 'AVG', 'WHIP', 'BABIP', 'LOB%', 'GB/FB', 'LD%', 'GB%', 'FB%',\n",
       "       'IFFB%', 'HR/FB', 'IFH%', 'BUH%', 'O-Swing%', 'Z-Swing%', 'Swing%',\n",
       "       'O-Contact%', 'Z-Contact%', 'Contact%', 'Zone%', 'F-Strike%', 'SwStr%',\n",
       "       'K%', 'BB%', 'SIERA', 'RS/9', 'Pull%', 'Cent%', 'Oppo%', 'Soft%',\n",
       "       'Med%', 'Hard%', 'xFIP', 'playerid'],\n",
       "      dtype='object')"
      ]
     },
     "execution_count": 245,
     "metadata": {},
     "output_type": "execute_result"
    }
   ],
   "source": [
    "stats.columns"
   ]
  },
  {
   "cell_type": "markdown",
   "metadata": {},
   "source": [
    "The included stats are listed above, I have only included rate stats because counting statistics will skew predicitions in favor of pitchers who have pitched more innings in a given season."
   ]
  },
  {
   "cell_type": "markdown",
   "metadata": {},
   "source": [
    "Below I reformat the data values in each column so that they are all floats and are suitable for analysis"
   ]
  },
  {
   "cell_type": "code",
   "execution_count": 246,
   "metadata": {},
   "outputs": [],
   "source": [
    "for col in stats.columns:\n",
    "    if type(stats[col][1])==str:\n",
    "        stats[col]=stats[col].str.replace('%','',regex=False)\n",
    " "
   ]
  },
  {
   "cell_type": "code",
   "execution_count": 247,
   "metadata": {},
   "outputs": [],
   "source": [
    "numbers=['Season', 'Age', 'ERA', 'K/9', 'BB/9', 'K/BB', 'H/9',\n",
    "       'HR/9', 'AVG', 'WHIP', 'BABIP', 'LOB%', 'GB/FB', 'LD%', 'GB%', 'FB%',\n",
    "       'IFFB%', 'HR/FB', 'IFH%', 'BUH%', 'O-Swing%', 'Z-Swing%', 'Swing%',\n",
    "       'O-Contact%', 'Z-Contact%', 'Contact%', 'Zone%', 'F-Strike%', 'SwStr%',\n",
    "       'K%', 'BB%', 'SIERA', 'RS/9', 'Pull%', 'Cent%', 'Oppo%', 'Soft%',\n",
    "       'Med%', 'Hard%', 'xFIP', 'playerid']\n",
    "for col in numbers:\n",
    "    stats[col]=stats[col].astype(float)"
   ]
  },
  {
   "cell_type": "markdown",
   "metadata": {},
   "source": [
    "In the next three cells I create a new dataframe from the original that includes a column for the given pitchers ERA the following season, and rename the columns accordingly"
   ]
  },
  {
   "cell_type": "code",
   "execution_count": 8,
   "metadata": {},
   "outputs": [
    {
     "data": {
      "text/plain": [
       "array([2002., 2003., 2004., 2005., 2006., 2007., 2008., 2009., 2010.,\n",
       "       2011., 2012., 2013., 2014., 2015., 2016., 2017., 2018., 2019.])"
      ]
     },
     "execution_count": 8,
     "metadata": {},
     "output_type": "execute_result"
    }
   ],
   "source": [
    "np.sort(stats.Season.unique())"
   ]
  },
  {
   "cell_type": "code",
   "execution_count": 61,
   "metadata": {},
   "outputs": [
    {
     "data": {
      "text/plain": [
       "[2002,\n",
       " 2003,\n",
       " 2004,\n",
       " 2005,\n",
       " 2006,\n",
       " 2007,\n",
       " 2008,\n",
       " 2009,\n",
       " 2010,\n",
       " 2011,\n",
       " 2012,\n",
       " 2013,\n",
       " 2014,\n",
       " 2015,\n",
       " 2016,\n",
       " 2017,\n",
       " 2018]"
      ]
     },
     "execution_count": 61,
     "metadata": {},
     "output_type": "execute_result"
    }
   ],
   "source": [
    "[i for i in range(2002,2019)]"
   ]
  },
  {
   "cell_type": "code",
   "execution_count": 248,
   "metadata": {},
   "outputs": [],
   "source": [
    "predseasons=['stats'+str(i)+str(i+1) for i in range(2002,2019)]\n",
    "i=2002\n",
    "for season in predseasons:\n",
    "  \n",
    "    globals()[season] = pd.merge(stats[stats['Season']==i],stats[stats['Season']==(i+1)][['Name','ERA']],on=\"Name\")\n",
    "    i+=1\n",
    "   "
   ]
  },
  {
   "cell_type": "code",
   "execution_count": 249,
   "metadata": {},
   "outputs": [],
   "source": [
    "statsrel=pd.concat([globals()[season] for season in predseasons])"
   ]
  },
  {
   "cell_type": "code",
   "execution_count": 250,
   "metadata": {},
   "outputs": [],
   "source": [
    "statsrel=statsrel.rename(columns={'ERA_x':'ERA_current_year','ERA_y':'ERA_next_year'})"
   ]
  },
  {
   "cell_type": "code",
   "execution_count": 251,
   "metadata": {
    "scrolled": false
   },
   "outputs": [],
   "source": [
    "#statsrel=statsrel[statsrel.Season>=2015]\n",
    "#statsrel['Name']=' '+statsrel['Name']\n",
    "statsrel=statsrel.reset_index(drop=True)"
   ]
  },
  {
   "cell_type": "code",
   "execution_count": 301,
   "metadata": {},
   "outputs": [],
   "source": [
    "cast=pd.read_csv('statcast_pitching.csv')"
   ]
  },
  {
   "cell_type": "code",
   "execution_count": 181,
   "metadata": {},
   "outputs": [],
   "source": [
    "cast['Name']=cast[' first_name']+' '+cast['last_name']"
   ]
  },
  {
   "cell_type": "code",
   "execution_count": 182,
   "metadata": {},
   "outputs": [],
   "source": [
    "nums=['year', 'slg_percent', 'on_base_percent',\n",
    "       'on_base_plus_slg', 'isolated_power', 'exit_velocity_avg',\n",
    "       'launch_angle_avg', 'sweet_spot_percent', 'barrel_batted_rate',\n",
    "       'solidcontact_percent', 'flareburner_percent', 'poorlyunder_percent',\n",
    "       'poorlytopped_percent', 'poorlyweak_percent', 'hard_hit_percent',\n",
    "       'z_swing_percent', 'z_swing_miss_percent', 'oz_swing_percent',\n",
    "       'oz_swing_miss_percent', 'oz_contact_percent', 'out_zone_percent',\n",
    "       'meatball_swing_percent', 'meatball_percent', 'iz_contact_percent',\n",
    "       'in_zone_percent', 'edge_percent', 'whiff_percent', 'swing_percent',\n",
    "       'pull_percent', 'straightaway_percent', 'opposite_percent',\n",
    "       'f_strike_percent', 'groundballs_percent', 'flyballs_percent',\n",
    "       'linedrives_percent', 'popups_percent']\n",
    "for col in nums:\n",
    "    cast[col]=cast[col].astype(float)"
   ]
  },
  {
   "cell_type": "code",
   "execution_count": 183,
   "metadata": {},
   "outputs": [],
   "source": [
    "cast.rename(columns={'year':'Season'}, inplace=True)"
   ]
  },
  {
   "cell_type": "code",
   "execution_count": 184,
   "metadata": {},
   "outputs": [],
   "source": [
    "cols=['Season', 'slg_percent', 'on_base_percent',\n",
    "       'on_base_plus_slg', 'isolated_power', 'exit_velocity_avg',\n",
    "       'launch_angle_avg', 'sweet_spot_percent', 'barrel_batted_rate',\n",
    "       'solidcontact_percent', 'flareburner_percent', 'poorlyunder_percent',\n",
    "       'poorlytopped_percent', 'poorlyweak_percent', 'hard_hit_percent',\n",
    "       'z_swing_percent', 'z_swing_miss_percent', 'oz_swing_percent',\n",
    "       'oz_swing_miss_percent', 'oz_contact_percent', 'out_zone_percent',\n",
    "       'meatball_swing_percent', 'meatball_percent', 'iz_contact_percent',\n",
    "       'in_zone_percent', 'edge_percent', 'whiff_percent', 'swing_percent',\n",
    "       'pull_percent', 'straightaway_percent', 'opposite_percent',\n",
    "       'f_strike_percent', 'groundballs_percent', 'flyballs_percent',\n",
    "       'linedrives_percent', 'popups_percent','Name']\n",
    "cast=cast[cols]"
   ]
  },
  {
   "cell_type": "code",
   "execution_count": 185,
   "metadata": {},
   "outputs": [],
   "source": [
    "all_stats=pd.merge(statsrel,cast,on=['Name','Season'])"
   ]
  },
  {
   "cell_type": "code",
   "execution_count": 213,
   "metadata": {},
   "outputs": [],
   "source": [
    "statsrel=all_stats"
   ]
  },
  {
   "cell_type": "markdown",
   "metadata": {},
   "source": [
    "\"features\" is a list of statistics that we will use to try to predict a pitchers ERA.\n",
    "\n",
    "\"featureswithestimators\" also includes the ERA estimators xFIP (eXpected Fielding Independent Pitching) and SIERA (Skill Interactive ERA), these stats use strikeout, walk and fly ball rates to say what a pitchers ERA 'should' be by removing factors such as team defense that are out of the pitchers control. For more information on these stats see https://www.fangraphs.com/library/pitching/. "
   ]
  },
  {
   "cell_type": "code",
   "execution_count": 214,
   "metadata": {},
   "outputs": [
    {
     "data": {
      "text/plain": [
       "Index(['Season', 'Name', 'Team', 'Age', 'ERA_current_year', 'K/9', 'BB/9',\n",
       "       'K/BB', 'H/9', 'HR/9', 'AVG', 'WHIP', 'BABIP', 'LOB%', 'GB/FB', 'LD%',\n",
       "       'GB%', 'FB%', 'IFFB%', 'HR/FB', 'IFH%', 'BUH%', 'O-Swing%', 'Z-Swing%',\n",
       "       'Swing%', 'O-Contact%', 'Z-Contact%', 'Contact%', 'Zone%', 'F-Strike%',\n",
       "       'SwStr%', 'K%', 'BB%', 'SIERA', 'RS/9', 'Pull%', 'Cent%', 'Oppo%',\n",
       "       'Soft%', 'Med%', 'Hard%', 'xFIP', 'playerid', 'ERA_next_year',\n",
       "       'slg_percent', 'on_base_percent', 'on_base_plus_slg', 'isolated_power',\n",
       "       'exit_velocity_avg', 'launch_angle_avg', 'sweet_spot_percent',\n",
       "       'barrel_batted_rate', 'solidcontact_percent', 'flareburner_percent',\n",
       "       'poorlyunder_percent', 'poorlytopped_percent', 'poorlyweak_percent',\n",
       "       'hard_hit_percent', 'z_swing_percent', 'z_swing_miss_percent',\n",
       "       'oz_swing_percent', 'oz_swing_miss_percent', 'oz_contact_percent',\n",
       "       'out_zone_percent', 'meatball_swing_percent', 'meatball_percent',\n",
       "       'iz_contact_percent', 'in_zone_percent', 'edge_percent',\n",
       "       'whiff_percent', 'swing_percent', 'pull_percent',\n",
       "       'straightaway_percent', 'opposite_percent', 'f_strike_percent',\n",
       "       'groundballs_percent', 'flyballs_percent', 'linedrives_percent',\n",
       "       'popups_percent'],\n",
       "      dtype='object')"
      ]
     },
     "execution_count": 214,
     "metadata": {},
     "output_type": "execute_result"
    }
   ],
   "source": [
    "statsrel.columns"
   ]
  },
  {
   "cell_type": "code",
   "execution_count": 252,
   "metadata": {},
   "outputs": [],
   "source": [
    "features=['Age', 'ERA_current_year', 'K/9', 'BB/9',\n",
    "       'K/BB', 'H/9', 'HR/9', 'AVG', 'WHIP', 'BABIP', 'LOB%', 'GB/FB', 'LD%',\n",
    "       'GB%', 'FB%', 'IFFB%', 'HR/FB','O-Swing%', 'Z-Swing%',\n",
    "       'Swing%', 'O-Contact%', 'Z-Contact%', 'Contact%', 'Zone%', 'F-Strike%',\n",
    "       'SwStr%', 'K%', 'BB%','Pull%', 'Cent%', 'Oppo%',\n",
    "       'Soft%', 'Med%', 'Hard%']\n"
   ]
  },
  {
   "cell_type": "code",
   "execution_count": 253,
   "metadata": {},
   "outputs": [],
   "source": [
    "featureswithestimators=['Age', 'ERA_current_year', 'K/9', 'BB/9',\n",
    "       'K/BB', 'H/9', 'HR/9', 'AVG', 'WHIP', 'BABIP', 'LOB%', 'GB/FB', 'LD%',\n",
    "       'GB%', 'FB%', 'IFFB%', 'HR/FB', 'O-Swing%', 'Z-Swing%',\n",
    "       'Swing%', 'O-Contact%', 'Z-Contact%', 'Contact%', 'Zone%', 'F-Strike%',\n",
    "       'SwStr%', 'K%', 'BB%','Pull%', 'Cent%', 'Oppo%',\n",
    "       'Soft%', 'Med%', 'Hard%','xFIP','SIERA']"
   ]
  },
  {
   "cell_type": "markdown",
   "metadata": {},
   "source": [
    "First lets explore which stats are most correlated with a pitcher's ERA during the same year"
   ]
  },
  {
   "cell_type": "code",
   "execution_count": 215,
   "metadata": {
    "scrolled": true
   },
   "outputs": [
    {
     "data": {
      "text/html": [
       "<div>\n",
       "<style scoped>\n",
       "    .dataframe tbody tr th:only-of-type {\n",
       "        vertical-align: middle;\n",
       "    }\n",
       "\n",
       "    .dataframe tbody tr th {\n",
       "        vertical-align: top;\n",
       "    }\n",
       "\n",
       "    .dataframe thead th {\n",
       "        text-align: right;\n",
       "    }\n",
       "</style>\n",
       "<table border=\"1\" class=\"dataframe\">\n",
       "  <thead>\n",
       "    <tr style=\"text-align: right;\">\n",
       "      <th></th>\n",
       "      <th>0</th>\n",
       "    </tr>\n",
       "  </thead>\n",
       "  <tbody>\n",
       "    <tr>\n",
       "      <th>ERA_current_year</th>\n",
       "      <td>1.000000</td>\n",
       "    </tr>\n",
       "    <tr>\n",
       "      <th>LOB%</th>\n",
       "      <td>0.759095</td>\n",
       "    </tr>\n",
       "    <tr>\n",
       "      <th>WHIP</th>\n",
       "      <td>0.751698</td>\n",
       "    </tr>\n",
       "    <tr>\n",
       "      <th>H/9</th>\n",
       "      <td>0.697129</td>\n",
       "    </tr>\n",
       "    <tr>\n",
       "      <th>AVG</th>\n",
       "      <td>0.674024</td>\n",
       "    </tr>\n",
       "    <tr>\n",
       "      <th>HR/9</th>\n",
       "      <td>0.527633</td>\n",
       "    </tr>\n",
       "    <tr>\n",
       "      <th>xFIP</th>\n",
       "      <td>0.521690</td>\n",
       "    </tr>\n",
       "    <tr>\n",
       "      <th>SIERA</th>\n",
       "      <td>0.516209</td>\n",
       "    </tr>\n",
       "    <tr>\n",
       "      <th>BABIP</th>\n",
       "      <td>0.487042</td>\n",
       "    </tr>\n",
       "    <tr>\n",
       "      <th>HR/FB</th>\n",
       "      <td>0.398085</td>\n",
       "    </tr>\n",
       "    <tr>\n",
       "      <th>K/BB</th>\n",
       "      <td>0.393622</td>\n",
       "    </tr>\n",
       "    <tr>\n",
       "      <th>K%</th>\n",
       "      <td>0.380705</td>\n",
       "    </tr>\n",
       "    <tr>\n",
       "      <th>BB/9</th>\n",
       "      <td>0.323582</td>\n",
       "    </tr>\n",
       "    <tr>\n",
       "      <th>SwStr%</th>\n",
       "      <td>0.300113</td>\n",
       "    </tr>\n",
       "    <tr>\n",
       "      <th>Contact%</th>\n",
       "      <td>0.281639</td>\n",
       "    </tr>\n",
       "    <tr>\n",
       "      <th>O-Swing%</th>\n",
       "      <td>0.274158</td>\n",
       "    </tr>\n",
       "    <tr>\n",
       "      <th>K/9</th>\n",
       "      <td>0.268448</td>\n",
       "    </tr>\n",
       "    <tr>\n",
       "      <th>Soft%</th>\n",
       "      <td>0.267007</td>\n",
       "    </tr>\n",
       "    <tr>\n",
       "      <th>Z-Contact%</th>\n",
       "      <td>0.260108</td>\n",
       "    </tr>\n",
       "    <tr>\n",
       "      <th>BB%</th>\n",
       "      <td>0.231710</td>\n",
       "    </tr>\n",
       "    <tr>\n",
       "      <th>Hard%</th>\n",
       "      <td>0.228636</td>\n",
       "    </tr>\n",
       "    <tr>\n",
       "      <th>F-Strike%</th>\n",
       "      <td>0.179909</td>\n",
       "    </tr>\n",
       "    <tr>\n",
       "      <th>IFFB%</th>\n",
       "      <td>0.133161</td>\n",
       "    </tr>\n",
       "    <tr>\n",
       "      <th>Z-Swing%</th>\n",
       "      <td>0.121130</td>\n",
       "    </tr>\n",
       "    <tr>\n",
       "      <th>Swing%</th>\n",
       "      <td>0.119353</td>\n",
       "    </tr>\n",
       "    <tr>\n",
       "      <th>LD%</th>\n",
       "      <td>0.101155</td>\n",
       "    </tr>\n",
       "    <tr>\n",
       "      <th>GB/FB</th>\n",
       "      <td>0.087481</td>\n",
       "    </tr>\n",
       "    <tr>\n",
       "      <th>GB%</th>\n",
       "      <td>0.067376</td>\n",
       "    </tr>\n",
       "    <tr>\n",
       "      <th>O-Contact%</th>\n",
       "      <td>0.067215</td>\n",
       "    </tr>\n",
       "    <tr>\n",
       "      <th>Zone%</th>\n",
       "      <td>0.061793</td>\n",
       "    </tr>\n",
       "    <tr>\n",
       "      <th>Cent%</th>\n",
       "      <td>0.056383</td>\n",
       "    </tr>\n",
       "    <tr>\n",
       "      <th>Pull%</th>\n",
       "      <td>0.054744</td>\n",
       "    </tr>\n",
       "    <tr>\n",
       "      <th>FB%</th>\n",
       "      <td>0.032520</td>\n",
       "    </tr>\n",
       "    <tr>\n",
       "      <th>Age</th>\n",
       "      <td>0.026590</td>\n",
       "    </tr>\n",
       "    <tr>\n",
       "      <th>Med%</th>\n",
       "      <td>0.017783</td>\n",
       "    </tr>\n",
       "    <tr>\n",
       "      <th>Oppo%</th>\n",
       "      <td>0.009352</td>\n",
       "    </tr>\n",
       "  </tbody>\n",
       "</table>\n",
       "</div>"
      ],
      "text/plain": [
       "                         0\n",
       "ERA_current_year  1.000000\n",
       "LOB%              0.759095\n",
       "WHIP              0.751698\n",
       "H/9               0.697129\n",
       "AVG               0.674024\n",
       "HR/9              0.527633\n",
       "xFIP              0.521690\n",
       "SIERA             0.516209\n",
       "BABIP             0.487042\n",
       "HR/FB             0.398085\n",
       "K/BB              0.393622\n",
       "K%                0.380705\n",
       "BB/9              0.323582\n",
       "SwStr%            0.300113\n",
       "Contact%          0.281639\n",
       "O-Swing%          0.274158\n",
       "K/9               0.268448\n",
       "Soft%             0.267007\n",
       "Z-Contact%        0.260108\n",
       "BB%               0.231710\n",
       "Hard%             0.228636\n",
       "F-Strike%         0.179909\n",
       "IFFB%             0.133161\n",
       "Z-Swing%          0.121130\n",
       "Swing%            0.119353\n",
       "LD%               0.101155\n",
       "GB/FB             0.087481\n",
       "GB%               0.067376\n",
       "O-Contact%        0.067215\n",
       "Zone%             0.061793\n",
       "Cent%             0.056383\n",
       "Pull%             0.054744\n",
       "FB%               0.032520\n",
       "Age               0.026590\n",
       "Med%              0.017783\n",
       "Oppo%             0.009352"
      ]
     },
     "execution_count": 215,
     "metadata": {},
     "output_type": "execute_result"
    }
   ],
   "source": [
    "corrdict1={col:np.abs(statsrel[col].corr(statsrel['ERA_current_year'])) for col in featureswithestimators}\n",
    "\n",
    "\n",
    "\n",
    "    \n",
    "Corr=pd.DataFrame.from_dict(corrdict1, orient='index')\n",
    "Corr.sort_values(by=0,ascending=False)"
   ]
  },
  {
   "cell_type": "markdown",
   "metadata": {},
   "source": [
    "We see that WHIP and hits per nine innings have strong correlations to ERA, placing just above xFIP and SIERA as the most strongly correlated variables. Now lets take a look at how these stats are correlated to a pitcher's ERA the following season."
   ]
  },
  {
   "cell_type": "code",
   "execution_count": 97,
   "metadata": {},
   "outputs": [
    {
     "data": {
      "text/plain": [
       "Index(['Season', 'Name', 'Team', 'Age', 'ERA_current_year', 'K/9', 'BB/9',\n",
       "       'K/BB', 'H/9', 'HR/9', 'AVG', 'WHIP', 'BABIP', 'LOB%', 'GB/FB', 'LD%',\n",
       "       'GB%', 'FB%', 'IFFB%', 'HR/FB', 'IFH%', 'BUH%', 'O-Swing%', 'Z-Swing%',\n",
       "       'Swing%', 'O-Contact%', 'Z-Contact%', 'Contact%', 'Zone%', 'F-Strike%',\n",
       "       'SwStr%', 'K%', 'BB%', 'SIERA', 'RS/9', 'Pull%', 'Cent%', 'Oppo%',\n",
       "       'Soft%', 'Med%', 'Hard%', 'xFIP', 'playerid', 'ERA_next_year'],\n",
       "      dtype='object')"
      ]
     },
     "execution_count": 97,
     "metadata": {},
     "output_type": "execute_result"
    }
   ],
   "source": [
    "statsrel.columns"
   ]
  },
  {
   "cell_type": "code",
   "execution_count": 121,
   "metadata": {
    "scrolled": true
   },
   "outputs": [
    {
     "data": {
      "text/html": [
       "<div>\n",
       "<style scoped>\n",
       "    .dataframe tbody tr th:only-of-type {\n",
       "        vertical-align: middle;\n",
       "    }\n",
       "\n",
       "    .dataframe tbody tr th {\n",
       "        vertical-align: top;\n",
       "    }\n",
       "\n",
       "    .dataframe thead th {\n",
       "        text-align: right;\n",
       "    }\n",
       "</style>\n",
       "<table border=\"1\" class=\"dataframe\">\n",
       "  <thead>\n",
       "    <tr style=\"text-align: right;\">\n",
       "      <th></th>\n",
       "      <th>0</th>\n",
       "    </tr>\n",
       "  </thead>\n",
       "  <tbody>\n",
       "    <tr>\n",
       "      <th>SIERA</th>\n",
       "      <td>0.268482</td>\n",
       "    </tr>\n",
       "    <tr>\n",
       "      <th>K%</th>\n",
       "      <td>0.261745</td>\n",
       "    </tr>\n",
       "    <tr>\n",
       "      <th>xFIP</th>\n",
       "      <td>0.251529</td>\n",
       "    </tr>\n",
       "    <tr>\n",
       "      <th>K/9</th>\n",
       "      <td>0.242782</td>\n",
       "    </tr>\n",
       "    <tr>\n",
       "      <th>AVG</th>\n",
       "      <td>0.239766</td>\n",
       "    </tr>\n",
       "    <tr>\n",
       "      <th>H/9</th>\n",
       "      <td>0.230923</td>\n",
       "    </tr>\n",
       "    <tr>\n",
       "      <th>WHIP</th>\n",
       "      <td>0.207988</td>\n",
       "    </tr>\n",
       "    <tr>\n",
       "      <th>Contact%</th>\n",
       "      <td>0.193359</td>\n",
       "    </tr>\n",
       "    <tr>\n",
       "      <th>SwStr%</th>\n",
       "      <td>0.182884</td>\n",
       "    </tr>\n",
       "    <tr>\n",
       "      <th>ERA_current_year</th>\n",
       "      <td>0.178364</td>\n",
       "    </tr>\n",
       "    <tr>\n",
       "      <th>K/BB</th>\n",
       "      <td>0.174440</td>\n",
       "    </tr>\n",
       "    <tr>\n",
       "      <th>Soft%</th>\n",
       "      <td>0.171884</td>\n",
       "    </tr>\n",
       "    <tr>\n",
       "      <th>O-Swing%</th>\n",
       "      <td>0.166373</td>\n",
       "    </tr>\n",
       "    <tr>\n",
       "      <th>Z-Contact%</th>\n",
       "      <td>0.163315</td>\n",
       "    </tr>\n",
       "    <tr>\n",
       "      <th>LOB%</th>\n",
       "      <td>0.139512</td>\n",
       "    </tr>\n",
       "    <tr>\n",
       "      <th>Z-Swing%</th>\n",
       "      <td>0.117830</td>\n",
       "    </tr>\n",
       "    <tr>\n",
       "      <th>BABIP</th>\n",
       "      <td>0.098090</td>\n",
       "    </tr>\n",
       "    <tr>\n",
       "      <th>Pull%</th>\n",
       "      <td>0.090776</td>\n",
       "    </tr>\n",
       "    <tr>\n",
       "      <th>Zone%</th>\n",
       "      <td>0.087274</td>\n",
       "    </tr>\n",
       "    <tr>\n",
       "      <th>HR/9</th>\n",
       "      <td>0.082717</td>\n",
       "    </tr>\n",
       "    <tr>\n",
       "      <th>Med%</th>\n",
       "      <td>0.079697</td>\n",
       "    </tr>\n",
       "    <tr>\n",
       "      <th>F-Strike%</th>\n",
       "      <td>0.076389</td>\n",
       "    </tr>\n",
       "    <tr>\n",
       "      <th>Oppo%</th>\n",
       "      <td>0.072349</td>\n",
       "    </tr>\n",
       "    <tr>\n",
       "      <th>LD%</th>\n",
       "      <td>0.067339</td>\n",
       "    </tr>\n",
       "    <tr>\n",
       "      <th>Age</th>\n",
       "      <td>0.065618</td>\n",
       "    </tr>\n",
       "    <tr>\n",
       "      <th>Hard%</th>\n",
       "      <td>0.064649</td>\n",
       "    </tr>\n",
       "    <tr>\n",
       "      <th>O-Contact%</th>\n",
       "      <td>0.047567</td>\n",
       "    </tr>\n",
       "    <tr>\n",
       "      <th>HR/FB</th>\n",
       "      <td>0.045492</td>\n",
       "    </tr>\n",
       "    <tr>\n",
       "      <th>FB%</th>\n",
       "      <td>0.043071</td>\n",
       "    </tr>\n",
       "    <tr>\n",
       "      <th>BB/9</th>\n",
       "      <td>0.037393</td>\n",
       "    </tr>\n",
       "    <tr>\n",
       "      <th>Cent%</th>\n",
       "      <td>0.030550</td>\n",
       "    </tr>\n",
       "    <tr>\n",
       "      <th>GB%</th>\n",
       "      <td>0.018375</td>\n",
       "    </tr>\n",
       "    <tr>\n",
       "      <th>BB%</th>\n",
       "      <td>0.014111</td>\n",
       "    </tr>\n",
       "    <tr>\n",
       "      <th>Swing%</th>\n",
       "      <td>0.013405</td>\n",
       "    </tr>\n",
       "    <tr>\n",
       "      <th>IFFB%</th>\n",
       "      <td>0.010023</td>\n",
       "    </tr>\n",
       "    <tr>\n",
       "      <th>GB/FB</th>\n",
       "      <td>0.003379</td>\n",
       "    </tr>\n",
       "  </tbody>\n",
       "</table>\n",
       "</div>"
      ],
      "text/plain": [
       "                         0\n",
       "SIERA             0.268482\n",
       "K%                0.261745\n",
       "xFIP              0.251529\n",
       "K/9               0.242782\n",
       "AVG               0.239766\n",
       "H/9               0.230923\n",
       "WHIP              0.207988\n",
       "Contact%          0.193359\n",
       "SwStr%            0.182884\n",
       "ERA_current_year  0.178364\n",
       "K/BB              0.174440\n",
       "Soft%             0.171884\n",
       "O-Swing%          0.166373\n",
       "Z-Contact%        0.163315\n",
       "LOB%              0.139512\n",
       "Z-Swing%          0.117830\n",
       "BABIP             0.098090\n",
       "Pull%             0.090776\n",
       "Zone%             0.087274\n",
       "HR/9              0.082717\n",
       "Med%              0.079697\n",
       "F-Strike%         0.076389\n",
       "Oppo%             0.072349\n",
       "LD%               0.067339\n",
       "Age               0.065618\n",
       "Hard%             0.064649\n",
       "O-Contact%        0.047567\n",
       "HR/FB             0.045492\n",
       "FB%               0.043071\n",
       "BB/9              0.037393\n",
       "Cent%             0.030550\n",
       "GB%               0.018375\n",
       "BB%               0.014111\n",
       "Swing%            0.013405\n",
       "IFFB%             0.010023\n",
       "GB/FB             0.003379"
      ]
     },
     "execution_count": 121,
     "metadata": {},
     "output_type": "execute_result"
    }
   ],
   "source": [
    "corrdict2={col:np.abs(statsrel[col].corr(statsrel['ERA_next_year'])) for col in featureswithestimators}\n",
    "\n",
    "\n",
    "\n",
    "    \n",
    "Corr=pd.DataFrame.from_dict(corrdict2, orient='index')\n",
    "Corr.sort_values(by=0,ascending=False)'IFH%', 'BUH%'"
   ]
  },
  {
   "cell_type": "markdown",
   "metadata": {},
   "source": [
    "   Here we see a very different picture, SIERA and xFIP have moved to the front of the pack, justifying their use as truer measures of a pitchers talent than ERA alone. We see that WHIP, and H/9 are now only the 8th and 10th most correlated stats respectively. \n",
    "    \n",
    "   Besides xFIP and SIERA, it seems that the best raw stats to use to predict a pitchers ERA are the ones involving strikeouts, (K%, K/9,K/BB, SwStr%). Its no surprise then that strikeouts are a major component of both the SIERA and xFIP estimators.\n",
    "    \n",
    "   Also of note is that a pitchers walk rate, (BB%) has a very low correlation to his ERA the next year. It seems that walks do not hurt a pitcher very much as long as he maintains high strikeout totals.\n",
    "     "
   ]
  },
  {
   "cell_type": "markdown",
   "metadata": {},
   "source": [
    "Finally, we try to use a combination of the raw features in a linear regressor to predict a pitchers ERA the following year.\n",
    "\n",
    "First we build our design matrix and define our feature scaler."
   ]
  },
  {
   "cell_type": "code",
   "execution_count": 254,
   "metadata": {},
   "outputs": [],
   "source": [
    "scaler=StandardScaler()"
   ]
  },
  {
   "cell_type": "code",
   "execution_count": 255,
   "metadata": {
    "scrolled": true
   },
   "outputs": [
    {
     "data": {
      "text/plain": [
       "(1229, 34)"
      ]
     },
     "execution_count": 255,
     "metadata": {},
     "output_type": "execute_result"
    }
   ],
   "source": [
    "scaler=StandardScaler()\n",
    "X_train, X_test, y_train, y_test = train_test_split(statsrel[featureswithestimators],statsrel['ERA_next_year'])\n",
    "X_train=X_train[features]\n",
    "X_train.shape\n"
   ]
  },
  {
   "cell_type": "code",
   "execution_count": 256,
   "metadata": {},
   "outputs": [],
   "source": [
    "X=statsrel[features]\n",
    "y=statsrel['ERA_next_year']"
   ]
  },
  {
   "cell_type": "markdown",
   "metadata": {},
   "source": [
    " Next we shuffle the order of the data so that the initial ordering does not bias the model."
   ]
  },
  {
   "cell_type": "code",
   "execution_count": 257,
   "metadata": {},
   "outputs": [],
   "source": [
    "from sklearn.utils import shuffle\n",
    "X_train,y_train=shuffle(X_train,y_train)\n",
    "X,y=shuffle(X,y)"
   ]
  },
  {
   "cell_type": "markdown",
   "metadata": {},
   "source": [
    "Now we can use a linear regressor on the data to try and make predictions. We test our model using 5 fold cross validation, and evaluate it using the mean absolute error."
   ]
  },
  {
   "cell_type": "code",
   "execution_count": 258,
   "metadata": {},
   "outputs": [
    {
     "data": {
      "text/plain": [
       "-0.2609413701677288"
      ]
     },
     "execution_count": 258,
     "metadata": {},
     "output_type": "execute_result"
    }
   ],
   "source": [
    "import sklearn\n",
    "MSEERA = sklearn.metrics.r2_score(y_true = statsrel['ERA_next_year'], y_pred = statsrel.ERA_current_year)\n",
    "MSEERA"
   ]
  },
  {
   "cell_type": "code",
   "execution_count": 259,
   "metadata": {},
   "outputs": [
    {
     "data": {
      "text/plain": [
       "0.17264291245512292"
      ]
     },
     "execution_count": 259,
     "metadata": {},
     "output_type": "execute_result"
    }
   ],
   "source": [
    "\n",
    "regressor=LinearRegression()\n",
    "pipeline=Pipeline([('scaler',MinMaxScaler()),('regressor',regressor)])\n",
    "E=np.mean(cross_val_score(pipeline,X,y,scoring='r2'))\n",
    "E\n",
    "#pipeline.fit(X_train,y_train)\n",
    "#MAE=sklearn.metrics.mean_absolute_error(y_true = y_test, y_pred = pipeline.predict(X_test[features]))\n",
    "#MAE\n"
   ]
  },
  {
   "cell_type": "markdown",
   "metadata": {},
   "source": [
    "We see that our model is off by an average of about .580 runs in predicting a pitcher's ERA. For comparison, lets look at our errors if we use the pitchers ERA from the previous year as our predicition."
   ]
  },
  {
   "cell_type": "markdown",
   "metadata": {},
   "source": [
    "Our regressor fares significantly better, how about if we use SIERA and xFIP?\n"
   ]
  },
  {
   "cell_type": "code",
   "execution_count": 260,
   "metadata": {},
   "outputs": [
    {
     "data": {
      "text/plain": [
       "0.15601474066311927"
      ]
     },
     "execution_count": 260,
     "metadata": {},
     "output_type": "execute_result"
    }
   ],
   "source": [
    "MAESIERA = sklearn.metrics.r2_score(y_true = statsrel['ERA_next_year'], y_pred =statsrel['SIERA']  )\n",
    "MAESIERA"
   ]
  },
  {
   "cell_type": "code",
   "execution_count": 131,
   "metadata": {},
   "outputs": [
    {
     "data": {
      "text/plain": [
       "1.1985245594612994"
      ]
     },
     "execution_count": 131,
     "metadata": {},
     "output_type": "execute_result"
    }
   ],
   "source": [
    "MAExFIP = sklearn.metrics.mean_squared_error(y_true = statsrel['ERA_next_year'], y_pred =statsrel['xFIP']  )\n",
    "np.sqrt(MAExFIP)"
   ]
  },
  {
   "cell_type": "markdown",
   "metadata": {},
   "source": [
    "Our regressor fares slightly better than xFIP and SIERA, which is no surprise given they both largely use stats from our list of features as inputs.\n",
    "\n",
    "\n"
   ]
  },
  {
   "cell_type": "markdown",
   "metadata": {},
   "source": [
    "We can improve our Regression model further by incorporating a regularization scheme, this will help keep the model from overfitiing the data. Lets first try a Ridge regressor, which helps keep the coefficients of our features small. "
   ]
  },
  {
   "cell_type": "code",
   "execution_count": 269,
   "metadata": {
    "scrolled": true
   },
   "outputs": [
    {
     "data": {
      "text/plain": [
       "0.18862837876595037"
      ]
     },
     "execution_count": 269,
     "metadata": {},
     "output_type": "execute_result"
    }
   ],
   "source": [
    "from sklearn.linear_model import Ridge\n",
    "\n",
    "regressor=Ridge(alpha=400)\n",
    "pipeline=Pipeline([('scaler',scaler),('regressor',regressor)])\n",
    "E=np.mean(cross_val_score(pipeline,X,y,scoring='r2'))\n",
    "E\n",
    "#pipeline.fit(X_train,y_train)\n",
    "#MAE=sklearn.metrics.mean_absolute_error(y_true = y_test, y_pred = pipeline.predict(X_test[features]))\n",
    "#MAE\n",
    "\n"
   ]
  },
  {
   "cell_type": "markdown",
   "metadata": {},
   "source": [
    "We see a slight improvement in our MAE from earlier (.576 vs .580). Next lets try a Lasso regressor, this will make the algorithm concentrate on a smaller number of features."
   ]
  },
  {
   "cell_type": "code",
   "execution_count": 280,
   "metadata": {
    "scrolled": true
   },
   "outputs": [
    {
     "data": {
      "text/plain": [
       "0.18984292064784009"
      ]
     },
     "execution_count": 280,
     "metadata": {},
     "output_type": "execute_result"
    }
   ],
   "source": [
    "from sklearn.model_selection import cross_val_score\n",
    "from sklearn.linear_model import Lasso\n",
    "\n",
    "regressor=Lasso(alpha=0.01)\n",
    "pipeline=Pipeline([('scaler',scaler),('regressor',regressor)])\n",
    "E=np.mean(cross_val_score(pipeline,X,y,scoring='r2'))\n",
    "E\n",
    "#pipeline.fit(X_train,y_train)\n",
    "#MAE=sklearn.metrics.mean_absolute_error(y_true = y_test, y_pred = pipeline.predict(X_test[features]))\n",
    "#MAE\n"
   ]
  },
  {
   "cell_type": "code",
   "execution_count": 281,
   "metadata": {},
   "outputs": [
    {
     "data": {
      "text/plain": [
       "0.4356604182158393"
      ]
     },
     "execution_count": 281,
     "metadata": {},
     "output_type": "execute_result"
    }
   ],
   "source": [
    "np.sqrt(.1898)"
   ]
  },
  {
   "cell_type": "code",
   "execution_count": null,
   "metadata": {},
   "outputs": [],
   "source": [
    ".3 .05"
   ]
  },
  {
   "cell_type": "code",
   "execution_count": 102,
   "metadata": {},
   "outputs": [
    {
     "data": {
      "text/plain": [
       "ElasticNet(alpha=0.1, l1_ratio=0.01)"
      ]
     },
     "execution_count": 102,
     "metadata": {},
     "output_type": "execute_result"
    }
   ],
   "source": [
    "regressor"
   ]
  },
  {
   "cell_type": "code",
   "execution_count": 289,
   "metadata": {},
   "outputs": [
    {
     "data": {
      "text/plain": [
       "0.1892197532307484"
      ]
     },
     "execution_count": 289,
     "metadata": {},
     "output_type": "execute_result"
    }
   ],
   "source": [
    "\n",
    "from sklearn.linear_model import ElasticNet\n",
    "\n",
    "regressor=ElasticNet(alpha=.1,l1_ratio=.05)\n",
    "pipeline=Pipeline([('scaler',scaler),('regressor',regressor)])\n",
    "\n",
    "E=np.mean(cross_val_score(pipeline,X,y,scoring='r2'))\n",
    "E\n"
   ]
  },
  {
   "cell_type": "code",
   "execution_count": 202,
   "metadata": {},
   "outputs": [],
   "source": [
    "import pickle\n",
    "regressor=ElasticNet(alpha=.1,l1_ratio=.1)\n",
    "pipeline=Pipeline([('scaler',scaler),('regressor',regressor)])\n",
    "pipeline.fit(X,y)\n",
    "pickle.dump(pipeline,open('/home/bradley/baseball/2020_reliever_era_model.pkl','wb'))"
   ]
  },
  {
   "cell_type": "code",
   "execution_count": 82,
   "metadata": {},
   "outputs": [
    {
     "data": {
      "text/plain": [
       "Pipeline(steps=[('scaler', StandardScaler()),\n",
       "                ('regressor', ElasticNet(alpha=0.3, l1_ratio=0.05))])"
      ]
     },
     "execution_count": 82,
     "metadata": {},
     "output_type": "execute_result"
    }
   ],
   "source": [
    "pipeline"
   ]
  },
  {
   "cell_type": "code",
   "execution_count": 79,
   "metadata": {},
   "outputs": [
    {
     "data": {
      "text/plain": [
       "Pipeline(steps=[('scaler', StandardScaler()),\n",
       "                ('regressor', ElasticNet(alpha=0.3, l1_ratio=0.05))])"
      ]
     },
     "execution_count": 79,
     "metadata": {},
     "output_type": "execute_result"
    }
   ],
   "source": [
    "pipeline.fit(X,y)"
   ]
  },
  {
   "cell_type": "code",
   "execution_count": 80,
   "metadata": {},
   "outputs": [
    {
     "ename": "NameError",
     "evalue": "name 'pickle' is not defined",
     "output_type": "error",
     "traceback": [
      "\u001b[0;31m---------------------------------------------------------------------------\u001b[0m",
      "\u001b[0;31mNameError\u001b[0m                                 Traceback (most recent call last)",
      "\u001b[0;32m<ipython-input-80-d7b4a88031cb>\u001b[0m in \u001b[0;36m<module>\u001b[0;34m\u001b[0m\n\u001b[0;32m----> 1\u001b[0;31m \u001b[0mpickle\u001b[0m\u001b[0;34m\u001b[0m\u001b[0;34m\u001b[0m\u001b[0m\n\u001b[0m",
      "\u001b[0;31mNameError\u001b[0m: name 'pickle' is not defined"
     ]
    }
   ],
   "source": [
    "pickle"
   ]
  },
  {
   "cell_type": "markdown",
   "metadata": {},
   "source": [
    "Finally we try XGBoost, a gradient boosted tree regressor. This solver has many hyperparameters so we employ Randomized grid search to find the optimal combination."
   ]
  },
  {
   "cell_type": "code",
   "execution_count": 240,
   "metadata": {},
   "outputs": [
    {
     "name": "stdout",
     "output_type": "stream",
     "text": [
      "Fitting 5 folds for each of 100 candidates, totalling 500 fits\n"
     ]
    },
    {
     "name": "stderr",
     "output_type": "stream",
     "text": [
      "[Parallel(n_jobs=-1)]: Using backend LokyBackend with 8 concurrent workers.\n",
      "[Parallel(n_jobs=-1)]: Done   2 tasks      | elapsed:    1.8s\n",
      "[Parallel(n_jobs=-1)]: Done  56 tasks      | elapsed:    9.5s\n",
      "[Parallel(n_jobs=-1)]: Done 146 tasks      | elapsed:   20.6s\n",
      "[Parallel(n_jobs=-1)]: Done 272 tasks      | elapsed:   42.6s\n",
      "[Parallel(n_jobs=-1)]: Done 434 tasks      | elapsed:  1.2min\n",
      "[Parallel(n_jobs=-1)]: Done 500 out of 500 | elapsed:  1.4min finished\n",
      "/home/bradley/.local/lib/python3.8/site-packages/sklearn/model_selection/_search.py:847: FutureWarning: The parameter 'iid' is deprecated in 0.22 and will be removed in 0.24.\n",
      "  warnings.warn(\n"
     ]
    },
    {
     "data": {
      "text/plain": [
       "RandomizedSearchCV(cv=5,\n",
       "                   estimator=Pipeline(steps=[('scaler', StandardScaler()),\n",
       "                                             ('regressor',\n",
       "                                              XGBRegressor(base_score=None,\n",
       "                                                           booster='gbtree',\n",
       "                                                           colsample_bylevel=None,\n",
       "                                                           colsample_bynode=None,\n",
       "                                                           colsample_bytree=None,\n",
       "                                                           gamma=0.08,\n",
       "                                                           gpu_id=None,\n",
       "                                                           importance_type='gain',\n",
       "                                                           interaction_constraints=None,\n",
       "                                                           learning_rate=0.05,\n",
       "                                                           max_delta_step=None,\n",
       "                                                           max_depth=1,\n",
       "                                                           min_child_weight=30,...\n",
       "                                        'regressor__min_child_weight': <scipy.stats._distn_infrastructure.rv_frozen object at 0x7fdcf30730d0>,\n",
       "                                        'regressor__n_estimators': <scipy.stats._distn_infrastructure.rv_frozen object at 0x7fdcf2b85940>,\n",
       "                                        'regressor__reg_alpha': <scipy.stats._distn_infrastructure.rv_frozen object at 0x7fdcf2f12be0>,\n",
       "                                        'regressor__reg_lambda': <scipy.stats._distn_infrastructure.rv_frozen object at 0x7fdcf3066040>},\n",
       "                   scoring='r2', verbose=5)"
      ]
     },
     "execution_count": 240,
     "metadata": {},
     "output_type": "execute_result"
    }
   ],
   "source": [
    "import scipy.stats as st\n",
    "regressor=XGBRegressor(booster='gbtree',n_estimators=100,max_depth=1,learning_rate=0.05,\n",
    "                       reg_lambda=0,reg_alpha=10,gamma=0.08,min_child_weight=30)\n",
    "\n",
    "pipeline=Pipeline([('scaler',scaler),('regressor',regressor)])\n",
    "parameters = {'regressor__n_estimators': st.randint(50,300),\n",
    "             'regressor__max_depth':st.randint(1,10),\n",
    "            'regressor__learning_rate':st.expon(scale=0.05),\n",
    "             'regressor__reg_alpha':st.expon(scale=5),\n",
    "              'regressor__reg_lambda':st.expon(scale=.01),\n",
    "              'regressor__gamma':st.expon(scale=0.08),\n",
    "             'regressor__min_child_weight':st.randint(5,50)}\n",
    "model = RandomizedSearchCV(pipeline,parameters,n_iter=100, cv=5, iid=False, n_jobs=-1,refit=True,verbose=5,scoring='r2') \n",
    "model.fit(X,y)\n",
    "#pipeline.fit(X_train,y_train);\n"
   ]
  },
  {
   "cell_type": "code",
   "execution_count": 486,
   "metadata": {},
   "outputs": [
    {
     "data": {
      "text/plain": [
       "0.37619937786157576"
      ]
     },
     "execution_count": 486,
     "metadata": {},
     "output_type": "execute_result"
    }
   ],
   "source": [
    "MAE=sklearn.metrics.mean_absolute_error(y_true = y_test, y_pred = model.predict(X_test[features]))\n",
    "MAE"
   ]
  },
  {
   "cell_type": "code",
   "execution_count": 88,
   "metadata": {},
   "outputs": [
    {
     "data": {
      "text/plain": [
       "0.8390642177704363"
      ]
     },
     "execution_count": 88,
     "metadata": {},
     "output_type": "execute_result"
    }
   ],
   "source": [
    "(-1*(model.best_score_))**(.5)"
   ]
  },
  {
   "cell_type": "code",
   "execution_count": 241,
   "metadata": {},
   "outputs": [
    {
     "data": {
      "text/plain": [
       "0.06800259066426939"
      ]
     },
     "execution_count": 241,
     "metadata": {},
     "output_type": "execute_result"
    }
   ],
   "source": [
    "model.best_score_"
   ]
  },
  {
   "cell_type": "code",
   "execution_count": 482,
   "metadata": {},
   "outputs": [
    {
     "data": {
      "text/plain": [
       "Pipeline(steps=[('scaler', StandardScaler()),\n",
       "                ('regressor',\n",
       "                 XGBRegressor(base_score=0.5, booster='gbtree',\n",
       "                              colsample_bylevel=1, colsample_bynode=1,\n",
       "                              colsample_bytree=1, gamma=0.09530873773365127,\n",
       "                              gpu_id=-1, importance_type='gain',\n",
       "                              interaction_constraints='',\n",
       "                              learning_rate=0.02985595872045796,\n",
       "                              max_delta_step=0, max_depth=8,\n",
       "                              min_child_weight=40, missing=nan,\n",
       "                              monotone_constraints='()', n_estimators=131,\n",
       "                              n_jobs=0, num_parallel_tree=1, random_state=0,\n",
       "                              reg_alpha=0.148849524657472,\n",
       "                              reg_lambda=0.018742750855552198,\n",
       "                              scale_pos_weight=1, subsample=1,\n",
       "                              tree_method='exact', validate_parameters=1,\n",
       "                              verbosity=None))])"
      ]
     },
     "execution_count": 482,
     "metadata": {},
     "output_type": "execute_result"
    }
   ],
   "source": [
    "model.best_estimator_"
   ]
  },
  {
   "cell_type": "code",
   "execution_count": 458,
   "metadata": {},
   "outputs": [
    {
     "data": {
      "text/plain": [
       "Pipeline(steps=[('scaler', StandardScaler()),\n",
       "                ('regressor',\n",
       "                 XGBRegressor(base_score=0.5, booster='gbtree',\n",
       "                              colsample_bylevel=1, colsample_bynode=1,\n",
       "                              colsample_bytree=1, gamma=0.11973106481347351,\n",
       "                              gpu_id=-1, importance_type='gain',\n",
       "                              interaction_constraints='',\n",
       "                              learning_rate=0.019398510482160427,\n",
       "                              max_delta_step=0, max_depth=9,\n",
       "                              min_child_weight=49, missing=nan,\n",
       "                              monotone_constraints='()', n_estimators=275,\n",
       "                              n_jobs=0, num_parallel_tree=1, random_state=0,\n",
       "                              reg_alpha=5.854796483199712,\n",
       "                              reg_lambda=0.0016021790992340643,\n",
       "                              scale_pos_weight=1, subsample=1,\n",
       "                              tree_method='exact', validate_parameters=1,\n",
       "                              verbosity=None))])"
      ]
     },
     "execution_count": 458,
     "metadata": {},
     "output_type": "execute_result"
    }
   ],
   "source": [
    "model.best_estimator_"
   ]
  },
  {
   "cell_type": "code",
   "execution_count": 493,
   "metadata": {},
   "outputs": [],
   "source": [
    "new_mod=model.best_estimator_"
   ]
  },
  {
   "cell_type": "code",
   "execution_count": 462,
   "metadata": {},
   "outputs": [
    {
     "data": {
      "text/plain": [
       "Pipeline(steps=[('scaler', StandardScaler()),\n",
       "                ('regressor',\n",
       "                 XGBRegressor(base_score=0.5, booster='gbtree',\n",
       "                              colsample_bylevel=1, colsample_bynode=1,\n",
       "                              colsample_bytree=1, gamma=0.004150756294386627,\n",
       "                              gpu_id=-1, importance_type='gain',\n",
       "                              interaction_constraints='',\n",
       "                              learning_rate=0.04507246778188143,\n",
       "                              max_delta_step=0, max_depth=2,\n",
       "                              min_child_weight=48, missing=nan,\n",
       "                              monotone_constraints='()', n_estimators=221,\n",
       "                              n_jobs=0, num_parallel_tree=1, random_state=0,\n",
       "                              reg_alpha=13.718408488531466,\n",
       "                              reg_lambda=0.0030009848461364603,\n",
       "                              scale_pos_weight=1, subsample=1,\n",
       "                              tree_method='exact', validate_parameters=1,\n",
       "                              verbosity=None))])"
      ]
     },
     "execution_count": 462,
     "metadata": {},
     "output_type": "execute_result"
    }
   ],
   "source": [
    "new_mod.fit(statsrel[features],statsrel['ERA_next_year'])"
   ]
  },
  {
   "cell_type": "code",
   "execution_count": 107,
   "metadata": {},
   "outputs": [],
   "source": [
    "regressor=Lasso(alpha=0.001)\n",
    "pipeline=Pipeline([('scaler',MinMaxScaler()),('regressor',regressor)])\n",
    "new_mod=pipeline.fit(X,y)"
   ]
  },
  {
   "cell_type": "code",
   "execution_count": 108,
   "metadata": {},
   "outputs": [
    {
     "data": {
      "text/plain": [
       "Pipeline(steps=[('scaler', MinMaxScaler()), ('regressor', Lasso(alpha=0.001))])"
      ]
     },
     "execution_count": 108,
     "metadata": {},
     "output_type": "execute_result"
    }
   ],
   "source": [
    "new_mod"
   ]
  },
  {
   "cell_type": "code",
   "execution_count": 109,
   "metadata": {},
   "outputs": [],
   "source": [
    "import pickle\n",
    "pickle.dump(new_mod,open('/home/bradley/baseball/2020_era_model.pkl','wb'))"
   ]
  },
  {
   "cell_type": "markdown",
   "metadata": {},
   "source": [
    "We print out the best parameters found using grid search and the associated cross-validation score"
   ]
  },
  {
   "cell_type": "code",
   "execution_count": 178,
   "metadata": {},
   "outputs": [
    {
     "name": "stdout",
     "output_type": "stream",
     "text": [
      "Best Parameters:  {'regressor__gamma': 0.054222289156951285, 'regressor__learning_rate': 0.1265594794016572, 'regressor__max_depth': 1, 'regressor__min_child_weight': 6, 'regressor__n_estimators': 54, 'regressor__reg_alpha': 5.450584170340279, 'regressor__reg_lambda': 0.0025626051810866794}\n",
      "\n",
      "\n",
      "Best Score:  0.5935192649521416\n"
     ]
    }
   ],
   "source": [
    "print('Best Parameters: ' , model.best_params_)\n",
    "print('\\n')\n",
    "print('Best Score: ' ,  -1*model.best_score_)"
   ]
  },
  {
   "cell_type": "markdown",
   "metadata": {},
   "source": [
    "We find XGBoost slightly outperforms the more basic linear regression algorithms (.567 vs .576 mean absolute error)"
   ]
  },
  {
   "cell_type": "markdown",
   "metadata": {},
   "source": [
    "Finally, lets look at the coefficients of our model to see which stats most strongly influence its prediction. We will do this for our Lasso regression model as it is more straightforward than for the XGBoost model."
   ]
  },
  {
   "cell_type": "code",
   "execution_count": 310,
   "metadata": {
    "scrolled": true
   },
   "outputs": [
    {
     "data": {
      "text/plain": [
       "Pipeline(steps=[('scaler', StandardScaler()), ('regressor', Lasso(alpha=0.1))])"
      ]
     },
     "execution_count": 310,
     "metadata": {},
     "output_type": "execute_result"
    }
   ],
   "source": [
    "regressor=Lasso(alpha=.1)\n",
    "pipeline=Pipeline([('scaler',scaler),('regressor',regressor)])\n",
    "pipeline.fit(X,y)"
   ]
  },
  {
   "cell_type": "code",
   "execution_count": 104,
   "metadata": {},
   "outputs": [
    {
     "data": {
      "text/plain": [
       "ElasticNet(alpha=0.3, l1_ratio=0.05)"
      ]
     },
     "execution_count": 104,
     "metadata": {},
     "output_type": "execute_result"
    }
   ],
   "source": [
    "regressor.fit(X,y)"
   ]
  },
  {
   "cell_type": "code",
   "execution_count": 105,
   "metadata": {
    "scrolled": true
   },
   "outputs": [
    {
     "data": {
      "text/plain": [
       "array([0.        , 0.        , 0.        , 0.        , 0.        ,\n",
       "       0.        , 0.        , 0.        , 0.        , 0.        ,\n",
       "       0.        , 0.        , 0.        , 0.        , 0.        ,\n",
       "       0.        , 0.        , 0.        , 0.        , 0.        ,\n",
       "       0.0001734 , 0.00037407, 0.00080843, 0.00219456, 0.00496123,\n",
       "       0.00525599, 0.00631908, 0.00963527, 0.0100982 , 0.01074162,\n",
       "       0.01291765, 0.01510334, 0.01572174, 0.01685014, 0.01921802,\n",
       "       0.02119584, 0.03183776])"
      ]
     },
     "execution_count": 105,
     "metadata": {},
     "output_type": "execute_result"
    }
   ],
   "source": [
    "np.sort(np.abs(pipeline.named_steps['regressor'].coef_))"
   ]
  },
  {
   "cell_type": "markdown",
   "metadata": {},
   "source": [
    "Our top four coefficents are .239, .116, .076, and .073. Lets see which stats these correspond to"
   ]
  },
  {
   "cell_type": "code",
   "execution_count": 106,
   "metadata": {
    "scrolled": false
   },
   "outputs": [
    {
     "name": "stdout",
     "output_type": "stream",
     "text": [
      "K%\n",
      "Soft%\n",
      "LD%\n",
      "Oppo%\n"
     ]
    }
   ],
   "source": [
    "most=np.argsort(np.abs(pipeline.named_steps['regressor'].coef_))[-4:]\n",
    "\n",
    "for i in reversed([statsrel[features].columns[i] for i in most]):\n",
    "    print(i)"
   ]
  },
  {
   "cell_type": "markdown",
   "metadata": {},
   "source": [
    "Given our correlation analysis above and the success of xFIP and SIERA it is unsurprising that K% and K/BB are among the strongest predictors of future performance. Interestingly, a  O-Contact% (the rate at which a batter makes contact on pitches outside the strike zone against a given pitcher) has a higher coefficient than we we would expect. "
   ]
  },
  {
   "cell_type": "code",
   "execution_count": null,
   "metadata": {},
   "outputs": [],
   "source": []
  }
 ],
 "metadata": {
  "kernelspec": {
   "display_name": "Python 3",
   "language": "python",
   "name": "python3"
  },
  "language_info": {
   "codemirror_mode": {
    "name": "ipython",
    "version": 3
   },
   "file_extension": ".py",
   "mimetype": "text/x-python",
   "name": "python",
   "nbconvert_exporter": "python",
   "pygments_lexer": "ipython3",
   "version": "3.8.2"
  }
 },
 "nbformat": 4,
 "nbformat_minor": 2
}
