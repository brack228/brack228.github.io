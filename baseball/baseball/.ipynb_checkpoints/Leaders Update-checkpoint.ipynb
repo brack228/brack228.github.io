{
 "cells": [
  {
   "cell_type": "code",
   "execution_count": 2,
   "metadata": {},
   "outputs": [],
   "source": [
    "import pandas as pd\n",
    "import numpy as np\n",
    "from sklearn.linear_model import LinearRegression\n",
    "from sklearn.model_selection import train_test_split\n",
    "from sklearn.metrics import mean_squared_error\n",
    "from sklearn.preprocessing import StandardScaler\n",
    "from sklearn.model_selection import cross_val_score\n",
    "import pickle\n",
    "from sklearn.linear_model import Lasso\n",
    "from sklearn.linear_model import Ridge"
   ]
  },
  {
   "cell_type": "code",
   "execution_count": 3,
   "metadata": {},
   "outputs": [],
   "source": [
    "pick=open('era_predict.pkl','rb')\n",
    "erareg=pickle.load(pick)"
   ]
  },
  {
   "cell_type": "code",
   "execution_count": 4,
   "metadata": {},
   "outputs": [],
   "source": [
    "stats=pd.read_csv('FanGraphs Leaderboard.csv')"
   ]
  },
  {
   "cell_type": "code",
   "execution_count": 5,
   "metadata": {},
   "outputs": [],
   "source": [
    "stats=stats[stats['Season']==2018]"
   ]
  },
  {
   "cell_type": "code",
   "execution_count": 7,
   "metadata": {},
   "outputs": [],
   "source": [
    "def EraPrePro(file):\n",
    "    current =pd.read_csv(file)\n",
    "    current=current.rename(columns={'ERA':'ERA_current_year'})\n",
    "    current=current.reset_index(drop=True)\n",
    "    for col in current.columns:\n",
    "        if type(current[col][1])==str:\n",
    "            current[col]=current[col].str.replace('%','',regex=False)\n",
    "    numbers=['Age', 'ERA_current_year', 'K/9', 'BB/9',\n",
    "       'K/BB', 'H/9', 'HR/9', 'WHIP', 'BABIP', 'GB/FB', 'LD%', 'GB%', 'FB%',\n",
    "       'IFFB%', 'HR/FB', 'O-Swing%', 'Z-Swing%', 'Swing%', 'O-Contact%',\n",
    "       'Z-Contact%', 'Contact%', 'Zone%', 'F-Strike%', 'SwStr%', 'K%', 'BB%',\n",
    "       'Soft%', 'Med%', 'Hard%', 'AVG', 'IFH%', 'BUH%', 'xFIP', 'SIERA',\n",
    "       'RS/9', 'K-BB%', 'Pull%', 'Cent%', 'Oppo%', 'playerid']\n",
    "    for col in numbers:\n",
    "        current[col]=current[col].astype(float)\n",
    "    return(current)\n",
    "    "
   ]
  },
  {
   "cell_type": "code",
   "execution_count": null,
   "metadata": {},
   "outputs": [],
   "source": []
  },
  {
   "cell_type": "code",
   "execution_count": 8,
   "metadata": {},
   "outputs": [],
   "source": [
    "pitchfeatures=['Age', 'ERA_current_year', 'K/9', 'BB/9',\n",
    "       'K/BB', 'H/9', 'HR/9', 'WHIP', 'BABIP', 'GB/FB', 'LD%', 'GB%', 'FB%',\n",
    "       'IFFB%', 'HR/FB', 'O-Swing%', 'Z-Swing%', 'Swing%', 'O-Contact%',\n",
    "       'Z-Contact%', 'Contact%', 'Zone%', 'F-Strike%', 'SwStr%', 'K%', 'BB%',\n",
    "       'Soft%', 'Med%', 'Hard%', 'AVG', 'IFH%', 'BUH%','RS/9','Pull%', 'Cent%', 'Oppo%']"
   ]
  },
  {
   "cell_type": "code",
   "execution_count": 10,
   "metadata": {},
   "outputs": [],
   "source": [
    "current=EraPrePro('FanGraphs Leaderboard.csv')\n",
    "current=current[current['Season']==2018]"
   ]
  },
  {
   "cell_type": "code",
   "execution_count": 11,
   "metadata": {},
   "outputs": [],
   "source": [
    "XC=StandardScaler().fit_transform(current[pitchfeatures])\n",
    "current['preds']=erareg.predict(XC)\n",
    "preds=current[['Name','ERA_current_year','SIERA','preds']].sort_values('preds')\n",
    "preds.to_csv('pitching_leaders.csv')"
   ]
  },
  {
   "cell_type": "code",
   "execution_count": 7,
   "metadata": {},
   "outputs": [],
   "source": [
    "pick=open('woba_predict.pkl','rb')\n",
    "wobareg=pickle.load(pick)"
   ]
  },
  {
   "cell_type": "code",
   "execution_count": 8,
   "metadata": {},
   "outputs": [],
   "source": [
    "def wobaPrePro(file1,file2,file3):\n",
    "    current =pd.read_csv(file1)\n",
    "    current['Name']=' '+current['Name']\n",
    "    sprint2019=pd.read_csv(file2)\n",
    "    exitv2019=pd.read_csv(file3)\n",
    "    sprint2019['Name']=sprint2019[' first_name']+' '+sprint2019['last_name']\n",
    "    exitv2019['Name']=exitv2019[' first_name']+' '+exitv2019['last_name']\n",
    "    current=pd.merge(current,sprint2019[['Name','sprint_speed']],on=\"Name\")\n",
    "    current=pd.merge(current,exitv2019[['avg_hit_angle',\n",
    "      'anglesweetspotpercent', 'max_hit_speed', 'avg_hit_speed', 'fbld', 'gb',\n",
    "       'max_distance', 'avg_distance', 'avg_hr_distance','ev95percent', 'brl_percent', 'brl_pa', 'Name']],on=\"Name\")\n",
    "    current=current.rename(columns={'wOBA':'wOBA_current_year'})\n",
    "    current=current.reset_index(drop=True)\n",
    "    for col in current.columns:\n",
    "        if type(current[col][1])==str:\n",
    "            current[col]=current[col].str.replace('%','',regex=False)\n",
    "    numbers=['Age', 'AVG', 'BB%', 'K%', 'BB/K', 'OBP',\n",
    "       'SLG', 'OPS', 'ISO', 'BABIP', 'GB/FB', 'LD%', 'GB%', 'FB%', 'IFFB%',\n",
    "       'HR/FB', 'IFH%', 'BUH%', 'wOBA_current_year', 'O-Swing%', 'Z-Swing%',\n",
    "       'Swing%', 'O-Contact%', 'Z-Contact%', 'Contact%', 'Zone%', 'F-Strike%',\n",
    "       'SwStr%', 'Pull%', 'Cent%', 'Oppo%', 'Soft%', 'Med%', 'Hard%', 'sprint_speed','avg_hit_angle',\n",
    "       'anglesweetspotpercent', 'max_hit_speed', 'avg_hit_speed', 'fbld', 'gb',\n",
    "       'max_distance', 'avg_distance', 'avg_hr_distance', 'ev95percent',\n",
    "       'brl_percent', 'brl_pa']\n",
    "    for col in numbers:\n",
    "        current[col]=current[col].astype(float)\n",
    "    current=current.dropna()\n",
    "    \n",
    "    \n",
    "    return(current)"
   ]
  },
  {
   "cell_type": "code",
   "execution_count": 9,
   "metadata": {},
   "outputs": [],
   "source": [
    "current=wobaPrePro('batting2019.csv','sprint_speed2019.csv','exit_velocity2019.csv')"
   ]
  },
  {
   "cell_type": "code",
   "execution_count": 10,
   "metadata": {},
   "outputs": [],
   "source": [
    "wobafeatures=['Age', 'AVG', 'BB%', 'K%', 'BB/K', 'OBP',\n",
    "       'SLG', 'ISO', 'BABIP', 'GB/FB', 'LD%', 'GB%', 'FB%', 'IFFB%',\n",
    "       'HR/FB', 'IFH%', 'BUH%', 'wOBA_current_year', 'O-Swing%', 'Z-Swing%',\n",
    "       'Swing%', 'O-Contact%', 'Z-Contact%', 'Contact%', 'Zone%', 'F-Strike%',\n",
    "       'SwStr%', 'Pull%', 'Cent%', 'Oppo%', 'Soft%', 'Med%', 'Hard%', 'sprint_speed', 'avg_hit_angle',\n",
    "       'anglesweetspotpercent', 'max_hit_speed', 'avg_hit_speed', 'fbld', 'gb',\n",
    "       'max_distance', 'avg_distance', 'avg_hr_distance', 'ev95percent',\n",
    "       'brl_percent', 'brl_pa']"
   ]
  },
  {
   "cell_type": "code",
   "execution_count": 11,
   "metadata": {},
   "outputs": [],
   "source": [
    "XC=StandardScaler().fit_transform(current[wobafeatures])\n",
    "current['preds']=wobareg.predict(XC)\n",
    "preds=current[['Name','wOBA_current_year','preds']].sort_values('preds',ascending=False)\n",
    "preds.to_csv('batting_leaders.csv')"
   ]
  },
  {
   "cell_type": "code",
   "execution_count": null,
   "metadata": {},
   "outputs": [],
   "source": []
  },
  {
   "cell_type": "code",
   "execution_count": null,
   "metadata": {},
   "outputs": [],
   "source": []
  },
  {
   "cell_type": "code",
   "execution_count": null,
   "metadata": {},
   "outputs": [],
   "source": []
  }
 ],
 "metadata": {
  "kernelspec": {
   "display_name": "Python 3",
   "language": "python",
   "name": "python3"
  },
  "language_info": {
   "codemirror_mode": {
    "name": "ipython",
    "version": 3
   },
   "file_extension": ".py",
   "mimetype": "text/x-python",
   "name": "python",
   "nbconvert_exporter": "python",
   "pygments_lexer": "ipython3",
   "version": "3.7.3"
  }
 },
 "nbformat": 4,
 "nbformat_minor": 2
}
